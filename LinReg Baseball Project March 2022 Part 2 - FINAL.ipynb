{
 "cells": [
  {
   "cell_type": "code",
   "execution_count": 2,
   "metadata": {},
   "outputs": [],
   "source": [
    "import pandas as pd\n",
    "import numpy as np\n",
    "import seaborn as sns\n",
    "import statsmodels.api as sm\n",
    "import matplotlib.pyplot as plt\n",
    "\n",
    "import sklearn.metrics\n",
    "from sklearn.metrics import mean_squared_error, mean_absolute_error\n",
    "from math import sqrt\n",
    "\n",
    "from sklearn.pipeline import make_pipeline\n",
    "from sklearn.model_selection import (train_test_split, cross_val_score, KFold)\n",
    "from sklearn.linear_model import (LinearRegression, LassoCV, RidgeCV)\n",
    "from sklearn.preprocessing import StandardScaler, PolynomialFeatures"
   ]
  },
  {
   "cell_type": "markdown",
   "metadata": {},
   "source": [
    "#### The new version of the massaged, web-scraped file contains interaction terms (weight + 3*height and age + 5*experience).  \n",
    "- 3 & 5 were chosen so the values would be roughly equally waited with their counterparts, based on average ratios between the two."
   ]
  },
  {
   "cell_type": "code",
   "execution_count": 22,
   "metadata": {},
   "outputs": [],
   "source": [
    "df = pd.read_excel('baseball_data_5.xlsx')"
   ]
  },
  {
   "cell_type": "code",
   "execution_count": 23,
   "metadata": {},
   "outputs": [],
   "source": [
    "#df.head()"
   ]
  },
  {
   "cell_type": "markdown",
   "metadata": {},
   "source": [
    "#### After modeling with all_df, the same techniques will be applied to the batting & pitching subsets."
   ]
  },
  {
   "cell_type": "code",
   "execution_count": 24,
   "metadata": {},
   "outputs": [],
   "source": [
    "all_df = df[[\"Year\",\n",
    "\"Team\",\n",
    "\"Win_Loss_Per\",\n",
    "\"Total_Adj_Team_Salary\",\n",
    "\"Average_Team_Age\",\n",
    "\"Average_Years_Play\",\n",
    "\"Average_Team_Height\",\n",
    "\"Average_Team_Weight\",\n",
    "\"All_HW\",\n",
    "\"All_AE\"]]"
   ]
  },
  {
   "cell_type": "code",
   "execution_count": 25,
   "metadata": {},
   "outputs": [],
   "source": [
    "bat_df = df[[\"Year\",\n",
    "\"Team\",\n",
    "\"Win_Loss_Per\",\n",
    "\"Total_Adj_Batting_Salary\",\n",
    "\"Average_Batting_Age\",\n",
    "\"Average_Years_Batting\",\n",
    "\"Average_Height_of_Batter\",\n",
    "\"Average_Weight_of_Batter\",\n",
    "\"Bat_HW\",\n",
    "\"Bat_AE\"]]"
   ]
  },
  {
   "cell_type": "code",
   "execution_count": 26,
   "metadata": {},
   "outputs": [],
   "source": [
    "pitch_df = df[[\"Year\",\n",
    "\"Team\",\n",
    "\"Win_Loss_Per\",\n",
    "\"Total_Adj_Pitching_Salary\",\n",
    "\"Average_Pitching_Age\",\n",
    "\"Average_Years_Pitching\",\n",
    "\"Average_Height_of_Pitcher\",\n",
    "\"Average_Weight_of_Pitcher\",\n",
    "\"Pitch_HW\",\n",
    "\"Pitch_AE\"]]"
   ]
  },
  {
   "cell_type": "markdown",
   "metadata": {},
   "source": [
    "- The first few Linear Regression models will compare unregularized data with and without the 2 interaction terms respectively. \n",
    "- statsmodels' OLS will be used to easily analyze coefficients & p-values. Cross-validation will be applied as well to determine which is overfitting.\n",
    "- Later we will standardize the data with lasso & ridge to see which performs better.\n",
    "- The models will then be applied to the batting & pitching subsets to see if they are better for one over the other."
   ]
  },
  {
   "cell_type": "markdown",
   "metadata": {},
   "source": [
    "#### Separating out dependent and target variables for all_df:"
   ]
  },
  {
   "cell_type": "code",
   "execution_count": 27,
   "metadata": {},
   "outputs": [],
   "source": [
    "x1 = all_df.drop(columns=[\"Win_Loss_Per\",\"Year\",\"Team\",\n",
    "                          \"All_HW\",\n",
    "                          \"All_AE\"])\n",
    "y1 = all_df[\"Win_Loss_Per\"]\n",
    "#---------------------\n",
    "x2 = all_df.drop(columns=[\"Win_Loss_Per\",\"Year\",\"Team\"])\n",
    "y2 = all_df[\"Win_Loss_Per\"]\n",
    "#---------------------"
   ]
  },
  {
   "cell_type": "markdown",
   "metadata": {},
   "source": [
    "-----"
   ]
  },
  {
   "cell_type": "markdown",
   "metadata": {},
   "source": [
    "#### Splitting both all_df sets into train vs test:"
   ]
  },
  {
   "cell_type": "code",
   "execution_count": 28,
   "metadata": {},
   "outputs": [],
   "source": [
    "X_train, X_test, y_train, y_test = train_test_split(x1,y1,test_size=.3,random_state=43)"
   ]
  },
  {
   "cell_type": "code",
   "execution_count": 29,
   "metadata": {},
   "outputs": [],
   "source": [
    "X_inter, X_inter_test, y_inter, y_inter_test = train_test_split(x2,y2,test_size=.3,random_state=43)"
   ]
  },
  {
   "cell_type": "markdown",
   "metadata": {},
   "source": [
    "---"
   ]
  },
  {
   "cell_type": "markdown",
   "metadata": {},
   "source": [
    "## Various Linear Regression Models on Combined Pitching + Batting Data"
   ]
  },
  {
   "cell_type": "code",
   "execution_count": 30,
   "metadata": {},
   "outputs": [
    {
     "name": "stdout",
     "output_type": "stream",
     "text": [
      "[0.1954899  0.22704567 0.05867808 0.2211289  0.15064558]\n",
      "0.23661251506271713\n"
     ]
    }
   ],
   "source": [
    "lr = LinearRegression()\n",
    "lr_1 = lr.fit(X_train,y_train)\n",
    "print(cross_val_score(lr_1,X_train,y_train,scoring = 'r2'))\n",
    "a=cross_val_score(lr_1,X_test,y_test,scoring = 'r2')\n",
    "print(a.mean())"
   ]
  },
  {
   "cell_type": "code",
   "execution_count": 31,
   "metadata": {},
   "outputs": [
    {
     "data": {
      "text/plain": [
       "[('Total_Adj_Team_Salary', 1.9809754781972654e-09),\n",
       " ('Average_Team_Age', -0.03942569876795443),\n",
       " ('Average_Years_Play', 0.13805821570564827),\n",
       " ('Average_Team_Height', 0.0018917084355479996),\n",
       " ('Average_Team_Weight', -0.001374179749303782)]"
      ]
     },
     "execution_count": 31,
     "metadata": {},
     "output_type": "execute_result"
    }
   ],
   "source": [
    "list(zip(X_train.columns, lr_1.coef_))"
   ]
  },
  {
   "cell_type": "code",
   "execution_count": 32,
   "metadata": {},
   "outputs": [
    {
     "name": "stdout",
     "output_type": "stream",
     "text": [
      "RMSE: 0.24532832884071007\n",
      "MAE: 0.19560379050921628\n"
     ]
    }
   ],
   "source": [
    "lr_1_pred = lr_1.predict(X_test)\n",
    "print(f'RMSE: {sqrt(mean_squared_error(y_test, lr_1_pred))}')\n",
    "print(f'MAE: {mean_absolute_error(y_test, lr_1_pred)}')"
   ]
  },
  {
   "cell_type": "markdown",
   "metadata": {},
   "source": [
    "--------"
   ]
  },
  {
   "cell_type": "markdown",
   "metadata": {},
   "source": [
    "##### Simple Linear Regression with feature engineered all_df"
   ]
  },
  {
   "cell_type": "code",
   "execution_count": 93,
   "metadata": {},
   "outputs": [
    {
     "name": "stdout",
     "output_type": "stream",
     "text": [
      "[0.1954899  0.22704567 0.05867808 0.2211289  0.15064558]\n",
      "0.23661251506271724\n"
     ]
    }
   ],
   "source": [
    "lr_2 = lr.fit(X_inter,y_inter)\n",
    "print(cross_val_score(lr_2,X_inter,y_inter,scoring = 'r2'))\n",
    "b = cross_val_score(lr_2,X_inter_test,y_inter_test,scoring = 'r2')\n",
    "print(b.mean())"
   ]
  },
  {
   "cell_type": "code",
   "execution_count": 96,
   "metadata": {},
   "outputs": [
    {
     "data": {
      "text/plain": [
       "[('Total_Adj_Team_Salary', 1.9809754781972252e-09),\n",
       " ('Average_Team_Age', -0.06353182394426136),\n",
       " ('Average_Years_Play', 0.017527589824113635),\n",
       " ('Average_Team_Height', 0.0007187232835462094),\n",
       " ('Average_Team_Weight', -0.0017651747999712503),\n",
       " ('All_HW', 0.00039099505066746143),\n",
       " ('All_AE', 0.024106125176306937)]"
      ]
     },
     "execution_count": 96,
     "metadata": {},
     "output_type": "execute_result"
    }
   ],
   "source": [
    "list(zip(X_inter.columns, lr_2.coef_))"
   ]
  },
  {
   "cell_type": "code",
   "execution_count": 36,
   "metadata": {},
   "outputs": [
    {
     "name": "stdout",
     "output_type": "stream",
     "text": [
      "RMSE: 0.24532832884071007\n",
      "MAE: 0.1956037905092163\n"
     ]
    }
   ],
   "source": [
    "lr_2_pred = lr_2.predict(X_inter_test)\n",
    "print(f'RMSE: {sqrt(mean_squared_error(y_inter_test, lr_2_pred))}')\n",
    "print(f'MAE: {mean_absolute_error(y_inter_test, lr_2_pred)}')"
   ]
  },
  {
   "cell_type": "markdown",
   "metadata": {},
   "source": [
    "#### Performance did not differ between the two models, but there is some interesting information about R-squared & the coefficients. Standardization will be introduced next to account for the scaling of the dependent variables' units ."
   ]
  },
  {
   "cell_type": "markdown",
   "metadata": {},
   "source": [
    "## Standardization"
   ]
  },
  {
   "cell_type": "code",
   "execution_count": 39,
   "metadata": {},
   "outputs": [],
   "source": [
    "std_1 = StandardScaler()\n",
    "X_sc = std_1.fit_transform(X_train) #creates the scale\n",
    "kf = KFold(n_splits=5, shuffle=True, random_state = 3)\n",
    "alphas = 10**np.linspace(-2,2,200)"
   ]
  },
  {
   "cell_type": "markdown",
   "metadata": {},
   "source": [
    "### Lasso Models"
   ]
  },
  {
   "cell_type": "code",
   "execution_count": 92,
   "metadata": {},
   "outputs": [
    {
     "data": {
      "text/plain": [
       "(0.24272821977050618, 0.187070030015563)"
      ]
     },
     "execution_count": 92,
     "metadata": {},
     "output_type": "execute_result"
    }
   ],
   "source": [
    "lasso_1 = LassoCV(alphas=alphas,cv=kf)\n",
    "lasso_1.fit(X_train,y_train)\n",
    "lasso_1.score(X_test,y_test), lasso_1.score(X_train,y_train)"
   ]
  },
  {
   "cell_type": "code",
   "execution_count": 47,
   "metadata": {},
   "outputs": [
    {
     "data": {
      "text/plain": [
       "[('Total_Adj_Team_Salary', 1.7289106926967994e-09),\n",
       " ('Average_Team_Age', -0.003280300358971341),\n",
       " ('Average_Years_Play', 0.09609552906745263),\n",
       " ('Average_Team_Height', 0.0),\n",
       " ('Average_Team_Weight', -0.0013656528117928087)]"
      ]
     },
     "execution_count": 47,
     "metadata": {},
     "output_type": "execute_result"
    }
   ],
   "source": [
    "list(zip(X_train.columns,lasso_1.coef_))"
   ]
  },
  {
   "cell_type": "code",
   "execution_count": 43,
   "metadata": {},
   "outputs": [
    {
     "name": "stdout",
     "output_type": "stream",
     "text": [
      "RMSE: 0.24803421944631027\n",
      "MAE: 0.19578546781180045\n"
     ]
    }
   ],
   "source": [
    "lasso_pred = lasso_1.predict(X_test)\n",
    "print(f'RMSE: {sqrt(mean_squared_error(y_test, lasso_pred))}')\n",
    "print(f'MAE: {mean_absolute_error(y_test, lasso_pred)}')"
   ]
  },
  {
   "cell_type": "code",
   "execution_count": 45,
   "metadata": {},
   "outputs": [
    {
     "data": {
      "text/plain": [
       "<matplotlib.collections.PathCollection at 0x17441cb50>"
      ]
     },
     "execution_count": 45,
     "metadata": {},
     "output_type": "execute_result"
    },
    {
     "data": {
      "image/png": "[encoded data removed]",
      "text/plain": [
       "<Figure size 432x288 with 1 Axes>"
      ]
     },
     "metadata": {
      "needs_background": "light"
     },
     "output_type": "display_data"
    }
   ],
   "source": [
    "lasso_resid = lasso_pred - y_test\n",
    "plt.scatter(y_test,lasso_resid, alpha=0.1)"
   ]
  },
  {
   "cell_type": "markdown",
   "metadata": {},
   "source": [
    "##### Testing model on FE set"
   ]
  },
  {
   "cell_type": "code",
   "execution_count": 91,
   "metadata": {},
   "outputs": [
    {
     "name": "stdout",
     "output_type": "stream",
     "text": [
      "0.24839874449202892 0.19140225078981576\n",
      "RMSE: 0.2471038222713064\n",
      "MAE: 0.1956647703577241\n"
     ]
    }
   ],
   "source": [
    "#lasso_2 = LassoCV(alphas=alphas,cv=kf)\n",
    "#lasso_2.fit(X_inter,y_inter)\n",
    "print(lasso_2.score(X_inter_test,y_inter_test),lasso_2.score(X_inter,y_inter))\n",
    "#lasso_pred_2 = lasso_2.predict(X_inter_test)\n",
    "print(f'RMSE: {sqrt(mean_squared_error(y_inter_test, lasso_pred_2))}')\n",
    "print(f'MAE: {mean_absolute_error(y_inter_test, lasso_pred_2)}')"
   ]
  },
  {
   "cell_type": "code",
   "execution_count": 49,
   "metadata": {},
   "outputs": [
    {
     "data": {
      "text/plain": [
       "[('Total_Adj_Team_Salary', 1.7215723946515614e-09),\n",
       " ('Average_Team_Age', -0.03528978758153537),\n",
       " ('Average_Years_Play', 0.0),\n",
       " ('Average_Team_Height', -0.0),\n",
       " ('Average_Team_Weight', -0.0009786972362910114),\n",
       " ('All_HW', -1.7181614458658407e-05),\n",
       " ('All_AE', 0.022412602374611502)]"
      ]
     },
     "execution_count": 49,
     "metadata": {},
     "output_type": "execute_result"
    }
   ],
   "source": [
    "list(zip(X_inter.columns,lasso_2.coef_))"
   ]
  },
  {
   "cell_type": "code",
   "execution_count": null,
   "metadata": {},
   "outputs": [],
   "source": []
  },
  {
   "cell_type": "markdown",
   "metadata": {},
   "source": [
    "### Ridge models"
   ]
  },
  {
   "cell_type": "code",
   "execution_count": 53,
   "metadata": {},
   "outputs": [],
   "source": [
    "#ridge_1 = RidgeCV(alphas=alphas,cv=kf)\n",
    "#ridge_1.fit(X_train,y_train)\n",
    "#ridge_1.score(X_test,y_test), ridge_1.score(X_train,y_train)"
   ]
  },
  {
   "cell_type": "markdown",
   "metadata": {},
   "source": [
    "The results of the cell above are pasted below because the return requires a lot of scrolling.\n",
    "\n",
    "(0.2583865749670099, 0.19520788099397723)"
   ]
  },
  {
   "cell_type": "code",
   "execution_count": 54,
   "metadata": {},
   "outputs": [
    {
     "data": {
      "text/plain": [
       "[('Total_Adj_Team_Salary', 1.9715968349018817e-09),\n",
       " ('Average_Team_Age', -0.035148719956728004),\n",
       " ('Average_Years_Play', 0.13185190522975834),\n",
       " ('Average_Team_Height', 0.0018724266462222313),\n",
       " ('Average_Team_Weight', -0.0014774937722552535)]"
      ]
     },
     "execution_count": 54,
     "metadata": {},
     "output_type": "execute_result"
    }
   ],
   "source": [
    "list(zip(X_train.columns, ridge_1.coef_))"
   ]
  },
  {
   "cell_type": "code",
   "execution_count": 55,
   "metadata": {},
   "outputs": [
    {
     "name": "stdout",
     "output_type": "stream",
     "text": [
      "RMSE: 0.24545648250355673\n",
      "MAE: 0.19555858177941277\n"
     ]
    }
   ],
   "source": [
    "ridge_1_pred = ridge_1.predict(X_test)\n",
    "print(f'RMSE: {sqrt(mean_squared_error(y_test, ridge_1_pred))}')\n",
    "print(f'MAE: {mean_absolute_error(y_test, ridge_1_pred)}')"
   ]
  },
  {
   "cell_type": "code",
   "execution_count": 57,
   "metadata": {},
   "outputs": [
    {
     "data": {
      "text/plain": [
       "Text(0.5, 0, 'Residuals')"
      ]
     },
     "execution_count": 57,
     "metadata": {},
     "output_type": "execute_result"
    },
    {
     "data": {
      "image/png": "[encoded data removed]",
      "text/plain": [
       "<Figure size 432x288 with 1 Axes>"
      ]
     },
     "metadata": {
      "needs_background": "light"
     },
     "output_type": "display_data"
    }
   ],
   "source": [
    "ridge_1_resid = ridge_1_pred - y_test\n",
    "plt.scatter(y_test,ridge_1_resid,alpha=0.2)\n",
    "plt.ylabel(\"Actual Win-Loss Percentage\")\n",
    "plt.xlabel(\"Residuals\")"
   ]
  },
  {
   "cell_type": "markdown",
   "metadata": {},
   "source": [
    "#### Ridge 1 trained on all teammates (B+P) is best model, though it has the same issue as the others: a strong linear relationship in the plotted residuals. "
   ]
  },
  {
   "cell_type": "markdown",
   "metadata": {},
   "source": [
    "##### According to Stack Exchange, a \"slanted\" residual plot typically results from the influence of a few VERY influential and VERY leveraging observations (aka outliers). \n",
    "- LOESS or LOWESS smoothing only works when your dependent variable is a vector.\n",
    "- Therefore the next attempt will be removing outliers."
   ]
  },
  {
   "cell_type": "code",
   "execution_count": 145,
   "metadata": {},
   "outputs": [],
   "source": [
    "new_all_df = all_df[(np.abs(stats.zscore(all_df[\"Total_Adj_Team_Salary\"])) < 2)]\n",
    "new_all_df = new_all_df[(np.abs(stats.zscore(new_all_df[\"Average_Team_Age\"])) < 2)]\n",
    "new_all_df = new_all_df[(np.abs(stats.zscore(new_all_df[\"Average_Years_Play\"])) < 2)]\n",
    "new_all_df = new_all_df[(np.abs(stats.zscore(new_all_df[\"Average_Team_Height\"])) < 2)]\n",
    "new_all_df = new_all_df[(np.abs(stats.zscore(new_all_df[\"Average_Team_Weight\"])) < 2)]\n",
    "new_all_df = new_all_df[(np.abs(stats.zscore(new_all_df[\"All_HW\"])) < 2)]\n",
    "new_all_df = new_all_df[(np.abs(stats.zscore(new_all_df[\"All_AE\"])) < 2)]"
   ]
  },
  {
   "cell_type": "code",
   "execution_count": 146,
   "metadata": {},
   "outputs": [
    {
     "data": {
      "text/plain": [
       "(928, 10)"
      ]
     },
     "execution_count": 146,
     "metadata": {},
     "output_type": "execute_result"
    }
   ],
   "source": [
    "new_all_df.shape"
   ]
  },
  {
   "cell_type": "code",
   "execution_count": 147,
   "metadata": {},
   "outputs": [],
   "source": [
    "new_df = new_all_df.drop(columns=[\"All_HW\",\"All_AE\"])"
   ]
  },
  {
   "cell_type": "code",
   "execution_count": 148,
   "metadata": {},
   "outputs": [],
   "source": [
    "xn1 = new_df.drop(columns=[\"Win_Loss_Per\",\"Year\",\"Team\"])\n",
    "yn1 = new_df[\"Win_Loss_Per\"]\n",
    "\n",
    "xn2= new_all_df.drop(columns=[\"Win_Loss_Per\",\"Year\",\"Team\"])\n",
    "yn2 = new_all_df[\"Win_Loss_Per\"]"
   ]
  },
  {
   "cell_type": "code",
   "execution_count": 149,
   "metadata": {},
   "outputs": [],
   "source": [
    "Xn1_train, Xn1_test, yn1_train, yn1_test = train_test_split(xn1,yn1,test_size=.3,random_state=43)\n",
    "Xn2_train, Xn2_test, yn2_train, yn2_test = train_test_split(xn2,yn2,test_size=.3,random_state=43)"
   ]
  },
  {
   "cell_type": "code",
   "execution_count": 152,
   "metadata": {},
   "outputs": [],
   "source": [
    "#new_ridge_1 = RidgeCV(alphas=alphas,cv=kf)\n",
    "#new_ridge_1.fit(Xn1_train,yn1_train)\n",
    "#new_ridge_1.score(Xn1_test,yn1_test), new_ridge_1.score(Xn1_train,yn1_train)\n",
    "#RESULTS:\n",
    "#WHILE Z.SCORE < 3: (0.21330859500519805, 0.18726005368875698)\n",
    "#WHEN Z.SCORE <2: (0.12561007329870488, 0.17225026011735978)"
   ]
  },
  {
   "cell_type": "code",
   "execution_count": 139,
   "metadata": {},
   "outputs": [
    {
     "data": {
      "text/plain": [
       "[('Total_Adj_Team_Salary', 2.4063040401348652e-09),\n",
       " ('Average_Team_Age', -0.031230181154373753),\n",
       " ('Average_Years_Play', 0.12088365098118152),\n",
       " ('Average_Team_Height', 0.0015253486453533371),\n",
       " ('Average_Team_Weight', -0.0026169666497027474)]"
      ]
     },
     "execution_count": 139,
     "metadata": {},
     "output_type": "execute_result"
    }
   ],
   "source": [
    "list(zip(Xn1_train.columns, new_ridge_1.coef_))"
   ]
  },
  {
   "cell_type": "code",
   "execution_count": 140,
   "metadata": {},
   "outputs": [
    {
     "name": "stdout",
     "output_type": "stream",
     "text": [
      "RMSE: 0.25233824205909683\n",
      "MAE: 0.20080598921981344\n"
     ]
    }
   ],
   "source": [
    "new_ridge_1_pred = new_ridge_1.predict(Xn1_test)\n",
    "print(f'RMSE: {sqrt(mean_squared_error(yn1_test, new_ridge_1_pred))}')\n",
    "print(f'MAE: {mean_absolute_error(yn1_test, new_ridge_1_pred)}')"
   ]
  },
  {
   "cell_type": "code",
   "execution_count": 142,
   "metadata": {},
   "outputs": [
    {
     "data": {
      "text/plain": [
       "<matplotlib.collections.PathCollection at 0x1749efa00>"
      ]
     },
     "execution_count": 142,
     "metadata": {},
     "output_type": "execute_result"
    },
    {
     "data": {
      "image/png": "[encoded data removed]",
      "text/plain": [
       "<Figure size 432x288 with 1 Axes>"
      ]
     },
     "metadata": {
      "needs_background": "light"
     },
     "output_type": "display_data"
    }
   ],
   "source": [
    "new_ridge_1_resid = new_ridge_1_pred - yn1_test\n",
    "plt.scatter(yn1_test,new_ridge_1_resid,alpha=0.1)"
   ]
  },
  {
   "cell_type": "code",
   "execution_count": null,
   "metadata": {},
   "outputs": [],
   "source": []
  },
  {
   "cell_type": "code",
   "execution_count": null,
   "metadata": {},
   "outputs": [],
   "source": []
  },
  {
   "cell_type": "code",
   "execution_count": null,
   "metadata": {},
   "outputs": [],
   "source": [
    "new_ridge_2 = "
   ]
  },
  {
   "cell_type": "code",
   "execution_count": null,
   "metadata": {},
   "outputs": [],
   "source": []
  },
  {
   "cell_type": "code",
   "execution_count": 130,
   "metadata": {},
   "outputs": [
    {
     "data": {
      "text/plain": [
       "Index(['Year', 'Team', 'Win_Loss_Per', 'Total_Adj_Team_Salary',\n",
       "       'Average_Team_Age', 'Average_Years_Play', 'Average_Team_Height',\n",
       "       'Average_Team_Weight', 'All_HW', 'All_AE'],\n",
       "      dtype='object')"
      ]
     },
     "execution_count": 130,
     "metadata": {},
     "output_type": "execute_result"
    }
   ],
   "source": [
    "new_all_df.columns"
   ]
  },
  {
   "cell_type": "code",
   "execution_count": null,
   "metadata": {},
   "outputs": [],
   "source": []
  },
  {
   "cell_type": "code",
   "execution_count": null,
   "metadata": {},
   "outputs": [],
   "source": []
  },
  {
   "cell_type": "code",
   "execution_count": null,
   "metadata": {},
   "outputs": [],
   "source": []
  },
  {
   "cell_type": "code",
   "execution_count": 129,
   "metadata": {},
   "outputs": [
    {
     "data": {
      "text/plain": [
       "(1156, 10)"
      ]
     },
     "execution_count": 129,
     "metadata": {},
     "output_type": "execute_result"
    }
   ],
   "source": [
    "new_all_df.shape"
   ]
  },
  {
   "cell_type": "code",
   "execution_count": 106,
   "metadata": {},
   "outputs": [
    {
     "data": {
      "text/html": [
       "<div>\n",
       "<style scoped>\n",
       "    .dataframe tbody tr th:only-of-type {\n",
       "        vertical-align: middle;\n",
       "    }\n",
       "\n",
       "    .dataframe tbody tr th {\n",
       "        vertical-align: top;\n",
       "    }\n",
       "\n",
       "    .dataframe thead th {\n",
       "        text-align: right;\n",
       "    }\n",
       "</style>\n",
       "<table border=\"1\" class=\"dataframe\">\n",
       "  <thead>\n",
       "    <tr style=\"text-align: right;\">\n",
       "      <th></th>\n",
       "      <th>Year</th>\n",
       "      <th>Team</th>\n",
       "      <th>Win_Loss_Per</th>\n",
       "      <th>Total_Adj_Team_Salary</th>\n",
       "      <th>Average_Team_Age</th>\n",
       "      <th>Average_Years_Play</th>\n",
       "      <th>Average_Team_Height</th>\n",
       "      <th>Average_Team_Weight</th>\n",
       "      <th>All_HW</th>\n",
       "      <th>All_AE</th>\n",
       "    </tr>\n",
       "  </thead>\n",
       "  <tbody>\n",
       "    <tr>\n",
       "      <th>0</th>\n",
       "      <td>1980</td>\n",
       "      <td>ATL</td>\n",
       "      <td>1.012500</td>\n",
       "      <td>6.123001e+06</td>\n",
       "      <td>27.733333</td>\n",
       "      <td>6.325758</td>\n",
       "      <td>72.688312</td>\n",
       "      <td>184.950216</td>\n",
       "      <td>403.015152</td>\n",
       "      <td>59.362121</td>\n",
       "    </tr>\n",
       "    <tr>\n",
       "      <th>1</th>\n",
       "      <td>1980</td>\n",
       "      <td>CHC</td>\n",
       "      <td>0.653061</td>\n",
       "      <td>2.773667e+06</td>\n",
       "      <td>28.600000</td>\n",
       "      <td>5.516340</td>\n",
       "      <td>73.712121</td>\n",
       "      <td>191.458333</td>\n",
       "      <td>412.594697</td>\n",
       "      <td>56.181699</td>\n",
       "    </tr>\n",
       "    <tr>\n",
       "      <th>2</th>\n",
       "      <td>1980</td>\n",
       "      <td>KCR</td>\n",
       "      <td>1.492308</td>\n",
       "      <td>2.443967e+06</td>\n",
       "      <td>28.266667</td>\n",
       "      <td>6.087087</td>\n",
       "      <td>73.042424</td>\n",
       "      <td>185.651515</td>\n",
       "      <td>404.778788</td>\n",
       "      <td>58.702102</td>\n",
       "    </tr>\n",
       "    <tr>\n",
       "      <th>3</th>\n",
       "      <td>1980</td>\n",
       "      <td>NYY</td>\n",
       "      <td>1.745763</td>\n",
       "      <td>1.100086e+07</td>\n",
       "      <td>30.400000</td>\n",
       "      <td>9.068376</td>\n",
       "      <td>73.000000</td>\n",
       "      <td>183.461538</td>\n",
       "      <td>402.461538</td>\n",
       "      <td>75.741880</td>\n",
       "    </tr>\n",
       "    <tr>\n",
       "      <th>4</th>\n",
       "      <td>1980</td>\n",
       "      <td>SDP</td>\n",
       "      <td>0.820225</td>\n",
       "      <td>4.516368e+06</td>\n",
       "      <td>28.200000</td>\n",
       "      <td>6.033333</td>\n",
       "      <td>73.119048</td>\n",
       "      <td>185.390476</td>\n",
       "      <td>404.747619</td>\n",
       "      <td>58.366667</td>\n",
       "    </tr>\n",
       "  </tbody>\n",
       "</table>\n",
       "</div>"
      ],
      "text/plain": [
       "   Year Team  Win_Loss_Per  Total_Adj_Team_Salary  Average_Team_Age  \\\n",
       "0  1980  ATL      1.012500           6.123001e+06         27.733333   \n",
       "1  1980  CHC      0.653061           2.773667e+06         28.600000   \n",
       "2  1980  KCR      1.492308           2.443967e+06         28.266667   \n",
       "3  1980  NYY      1.745763           1.100086e+07         30.400000   \n",
       "4  1980  SDP      0.820225           4.516368e+06         28.200000   \n",
       "\n",
       "   Average_Years_Play  Average_Team_Height  Average_Team_Weight      All_HW  \\\n",
       "0            6.325758            72.688312           184.950216  403.015152   \n",
       "1            5.516340            73.712121           191.458333  412.594697   \n",
       "2            6.087087            73.042424           185.651515  404.778788   \n",
       "3            9.068376            73.000000           183.461538  402.461538   \n",
       "4            6.033333            73.119048           185.390476  404.747619   \n",
       "\n",
       "      All_AE  \n",
       "0  59.362121  \n",
       "1  56.181699  \n",
       "2  58.702102  \n",
       "3  75.741880  \n",
       "4  58.366667  "
      ]
     },
     "execution_count": 106,
     "metadata": {},
     "output_type": "execute_result"
    }
   ],
   "source": [
    "all_df.head()"
   ]
  },
  {
   "cell_type": "code",
   "execution_count": 109,
   "metadata": {},
   "outputs": [
    {
     "data": {
      "text/plain": [
       "27.7333333333333"
      ]
     },
     "execution_count": 109,
     "metadata": {},
     "output_type": "execute_result"
    }
   ],
   "source": [
    "all_df.iloc[0,4]\n",
    "#Columns labeled 3-9 should be standardized"
   ]
  },
  {
   "cell_type": "code",
   "execution_count": 125,
   "metadata": {},
   "outputs": [
    {
     "data": {
      "text/html": [
       "<div>\n",
       "<style scoped>\n",
       "    .dataframe tbody tr th:only-of-type {\n",
       "        vertical-align: middle;\n",
       "    }\n",
       "\n",
       "    .dataframe tbody tr th {\n",
       "        vertical-align: top;\n",
       "    }\n",
       "\n",
       "    .dataframe thead th {\n",
       "        text-align: right;\n",
       "    }\n",
       "</style>\n",
       "<table border=\"1\" class=\"dataframe\">\n",
       "  <thead>\n",
       "    <tr style=\"text-align: right;\">\n",
       "      <th></th>\n",
       "      <th>Year</th>\n",
       "      <th>Team</th>\n",
       "      <th>Win_Loss_Per</th>\n",
       "      <th>Total_Adj_Team_Salary</th>\n",
       "      <th>Average_Team_Age</th>\n",
       "      <th>Average_Years_Play</th>\n",
       "      <th>Average_Team_Height</th>\n",
       "      <th>Average_Team_Weight</th>\n",
       "      <th>All_HW</th>\n",
       "      <th>All_AE</th>\n",
       "    </tr>\n",
       "  </thead>\n",
       "  <tbody>\n",
       "    <tr>\n",
       "      <th>0</th>\n",
       "      <td>1980</td>\n",
       "      <td>ATL</td>\n",
       "      <td>1.012500</td>\n",
       "      <td>6.123001e+06</td>\n",
       "      <td>27.733333</td>\n",
       "      <td>6.325758</td>\n",
       "      <td>72.688312</td>\n",
       "      <td>184.950216</td>\n",
       "      <td>403.015152</td>\n",
       "      <td>59.362121</td>\n",
       "    </tr>\n",
       "    <tr>\n",
       "      <th>1</th>\n",
       "      <td>1980</td>\n",
       "      <td>CHC</td>\n",
       "      <td>0.653061</td>\n",
       "      <td>2.773667e+06</td>\n",
       "      <td>28.600000</td>\n",
       "      <td>5.516340</td>\n",
       "      <td>73.712121</td>\n",
       "      <td>191.458333</td>\n",
       "      <td>412.594697</td>\n",
       "      <td>56.181699</td>\n",
       "    </tr>\n",
       "    <tr>\n",
       "      <th>2</th>\n",
       "      <td>1980</td>\n",
       "      <td>KCR</td>\n",
       "      <td>1.492308</td>\n",
       "      <td>2.443967e+06</td>\n",
       "      <td>28.266667</td>\n",
       "      <td>6.087087</td>\n",
       "      <td>73.042424</td>\n",
       "      <td>185.651515</td>\n",
       "      <td>404.778788</td>\n",
       "      <td>58.702102</td>\n",
       "    </tr>\n",
       "    <tr>\n",
       "      <th>3</th>\n",
       "      <td>1980</td>\n",
       "      <td>NYY</td>\n",
       "      <td>1.745763</td>\n",
       "      <td>1.100086e+07</td>\n",
       "      <td>30.400000</td>\n",
       "      <td>9.068376</td>\n",
       "      <td>73.000000</td>\n",
       "      <td>183.461538</td>\n",
       "      <td>402.461538</td>\n",
       "      <td>75.741880</td>\n",
       "    </tr>\n",
       "    <tr>\n",
       "      <th>4</th>\n",
       "      <td>1980</td>\n",
       "      <td>SDP</td>\n",
       "      <td>0.820225</td>\n",
       "      <td>4.516368e+06</td>\n",
       "      <td>28.200000</td>\n",
       "      <td>6.033333</td>\n",
       "      <td>73.119048</td>\n",
       "      <td>185.390476</td>\n",
       "      <td>404.747619</td>\n",
       "      <td>58.366667</td>\n",
       "    </tr>\n",
       "  </tbody>\n",
       "</table>\n",
       "</div>"
      ],
      "text/plain": [
       "   Year Team  Win_Loss_Per  Total_Adj_Team_Salary  Average_Team_Age  \\\n",
       "0  1980  ATL      1.012500           6.123001e+06         27.733333   \n",
       "1  1980  CHC      0.653061           2.773667e+06         28.600000   \n",
       "2  1980  KCR      1.492308           2.443967e+06         28.266667   \n",
       "3  1980  NYY      1.745763           1.100086e+07         30.400000   \n",
       "4  1980  SDP      0.820225           4.516368e+06         28.200000   \n",
       "\n",
       "   Average_Years_Play  Average_Team_Height  Average_Team_Weight      All_HW  \\\n",
       "0            6.325758            72.688312           184.950216  403.015152   \n",
       "1            5.516340            73.712121           191.458333  412.594697   \n",
       "2            6.087087            73.042424           185.651515  404.778788   \n",
       "3            9.068376            73.000000           183.461538  402.461538   \n",
       "4            6.033333            73.119048           185.390476  404.747619   \n",
       "\n",
       "      All_AE  \n",
       "0  59.362121  \n",
       "1  56.181699  \n",
       "2  58.702102  \n",
       "3  75.741880  \n",
       "4  58.366667  "
      ]
     },
     "execution_count": 125,
     "metadata": {},
     "output_type": "execute_result"
    }
   ],
   "source": [
    "all_df.head()"
   ]
  },
  {
   "cell_type": "code",
   "execution_count": null,
   "metadata": {},
   "outputs": [],
   "source": []
  },
  {
   "cell_type": "code",
   "execution_count": null,
   "metadata": {},
   "outputs": [],
   "source": []
  },
  {
   "cell_type": "code",
   "execution_count": 99,
   "metadata": {},
   "outputs": [
    {
     "data": {
      "text/plain": [
       "(0.25821634156341455, 0.19528372788861204)"
      ]
     },
     "execution_count": 99,
     "metadata": {},
     "output_type": "execute_result"
    }
   ],
   "source": [
    "#ridge_2 = RidgeCV(alphas=alphas,cv=kf)\n",
    "#ridge_2.fit(X_inter,y_inter)\n",
    "#ridge_2.score(X_inter_test,y_inter_test), ridge_2.score(X_inter,y_inter)\n",
    "#RESULTS PASTED BELOW\n",
    "(0.25821634156341455, 0.19528372788861204)"
   ]
  },
  {
   "cell_type": "code",
   "execution_count": 100,
   "metadata": {},
   "outputs": [
    {
     "data": {
      "text/plain": [
       "[('Total_Adj_Team_Salary', 1.9466612126752313e-09),\n",
       " ('Average_Team_Age', -0.059175599297586465),\n",
       " ('Average_Years_Play', 0.016548347455665177),\n",
       " ('Average_Team_Height', 0.0006652952384199631),\n",
       " ('Average_Team_Weight', -0.0016674062881950917),\n",
       " ('All_HW', 0.00032847942705718254),\n",
       " ('All_AE', 0.023566137980763027)]"
      ]
     },
     "execution_count": 100,
     "metadata": {},
     "output_type": "execute_result"
    }
   ],
   "source": [
    "list(zip(X_inter.columns, ridge_2.coef_))"
   ]
  },
  {
   "cell_type": "markdown",
   "metadata": {},
   "source": [
    "-----"
   ]
  },
  {
   "cell_type": "markdown",
   "metadata": {},
   "source": [
    "## Creating training and testing distinct subsets of pitch_df and bat_df for model application"
   ]
  },
  {
   "cell_type": "markdown",
   "metadata": {},
   "source": [
    "### Batting Dataframe"
   ]
  },
  {
   "cell_type": "code",
   "execution_count": 58,
   "metadata": {},
   "outputs": [],
   "source": [
    "bx1 = bat_df.drop(columns=[\"Win_Loss_Per\",\"Year\",\"Team\",\n",
    "                          \"Bat_HW\",\n",
    "                          \"Bat_AE\"])\n",
    "by1 = bat_df[\"Win_Loss_Per\"]\n",
    "#---------------------\n",
    "bx2 = bat_df.drop(columns=[\"Win_Loss_Per\",\"Year\",\"Team\"])\n",
    "by2 = bat_df[\"Win_Loss_Per\"]\n",
    "#---------------------"
   ]
  },
  {
   "cell_type": "code",
   "execution_count": 63,
   "metadata": {},
   "outputs": [],
   "source": [
    "#Checking how overall data models perform on these datasets\n",
    "#print(lasso_1.score(bx1,by1)) #Calling original LassoCV model\n",
    "#print(lasso_2.score(bx2,by2)) #Performed slightly better with feature engineering, but worse than all_df\n",
    "#RESULTS ARE:\n",
    "#0.1712195833407837\n",
    "#0.17637400646675838"
   ]
  },
  {
   "cell_type": "markdown",
   "metadata": {},
   "source": [
    "#### Create new training & testing models for subsets"
   ]
  },
  {
   "cell_type": "code",
   "execution_count": 65,
   "metadata": {},
   "outputs": [],
   "source": [
    "Xb1_train, Xb1_test, yb1_train, yb1_test = train_test_split(bx1,by1,test_size=.3,random_state=43)\n",
    "Xb2_inter, Xb2_inter_test, yb2_inter, yb2_inter_test = train_test_split(bx2,by2,test_size=.3,random_state=43)"
   ]
  },
  {
   "cell_type": "markdown",
   "metadata": {},
   "source": [
    "##### Fitting a ridge model to the batting data returned similar test results to the overall dataframe."
   ]
  },
  {
   "cell_type": "code",
   "execution_count": 71,
   "metadata": {},
   "outputs": [
    {
     "data": {
      "text/plain": [
       "(0.25505635033214047, 0.18987388634708258)"
      ]
     },
     "execution_count": 71,
     "metadata": {},
     "output_type": "execute_result"
    }
   ],
   "source": [
    "#ridge_b1 = RidgeCV(alphas=alphas,cv=kf)\n",
    "#ridge_b1.fit(Xb1_train,yb1_train)\n",
    "#ridge_b1.score(Xb1_test,yb1_test), ridge_b1.score(Xb1_train,yb1_train)\n",
    "#RESULTS PASTED BELOW; RETURN MESSAGE VERY LONG\n",
    "(0.25505635033214047, 0.18987388634708258)"
   ]
  },
  {
   "cell_type": "code",
   "execution_count": 80,
   "metadata": {},
   "outputs": [
    {
     "data": {
      "text/plain": [
       "[('Total_Adj_Batting_Salary', 1.3966170522490246e-09),\n",
       " ('Average_Batting_Age', -0.03377850950529163),\n",
       " ('Average_Years_Batting', 0.13517872395894986),\n",
       " ('Average_Height_of_Batter', 0.0017385133379004588),\n",
       " ('Average_Weight_of_Batter', -0.00018027017868598428)]"
      ]
     },
     "execution_count": 80,
     "metadata": {},
     "output_type": "execute_result"
    }
   ],
   "source": [
    "list(zip(Xb1_train.columns, ridge_b1.coef_))"
   ]
  },
  {
   "cell_type": "code",
   "execution_count": 86,
   "metadata": {},
   "outputs": [
    {
     "name": "stdout",
     "output_type": "stream",
     "text": [
      "RMSE: 0.24600697794178913\n",
      "MAE: 0.19529289324092364\n"
     ]
    }
   ],
   "source": [
    "ridge_b1_pred = ridge_b1.predict(Xb1_test)\n",
    "print(f'RMSE: {sqrt(mean_squared_error(yb1_test, ridge_b1_pred))}')\n",
    "print(f'MAE: {mean_absolute_error(yb1_test, ridge_b1_pred)}')"
   ]
  },
  {
   "cell_type": "markdown",
   "metadata": {},
   "source": [
    "##### Ridge model on batting team with feature engineering."
   ]
  },
  {
   "cell_type": "code",
   "execution_count": 73,
   "metadata": {},
   "outputs": [
    {
     "data": {
      "text/plain": [
       "(0.2523837192543116, 0.18972201023430268)"
      ]
     },
     "execution_count": 73,
     "metadata": {},
     "output_type": "execute_result"
    }
   ],
   "source": [
    "#ridge_b2 = RidgeCV(alphas=alphas,cv=kf)\n",
    "#ridge_b2.fit(Xb2_inter,yb2_inter)\n",
    "#ridge_b2.score(Xb2_inter_test,yb2_inter_test), ridge_b2.score(Xb2_inter,yb2_inter)\n",
    "#RESULTS PASTED BELOW; RETURN MESSAGE VERY LONG\n",
    "(0.2523837192543116, 0.18972201023430268)"
   ]
  },
  {
   "cell_type": "code",
   "execution_count": 82,
   "metadata": {},
   "outputs": [
    {
     "data": {
      "text/plain": [
       "[('Total_Adj_Batting_Salary', 1.3659856957694737e-09),\n",
       " ('Average_Batting_Age', -0.03464253781002781),\n",
       " ('Average_Years_Batting', 0.12057277655208744),\n",
       " ('Average_Height_of_Batter', 0.00032230147273295753),\n",
       " ('Average_Weight_of_Batter', -0.0005263962295482377),\n",
       " ('Bat_HW', 0.0004405081886979444),\n",
       " ('Bat_AE', 0.002861977120081639)]"
      ]
     },
     "execution_count": 82,
     "metadata": {},
     "output_type": "execute_result"
    }
   ],
   "source": [
    "list(zip(Xb2_inter.columns, ridge_b2.coef_))"
   ]
  },
  {
   "cell_type": "code",
   "execution_count": 87,
   "metadata": {},
   "outputs": [
    {
     "name": "stdout",
     "output_type": "stream",
     "text": [
      "RMSE: 0.24644788191860498\n",
      "MAE: 0.1956096440099773\n"
     ]
    }
   ],
   "source": [
    "ridge_b2_pred = ridge_b2.predict(Xb2_inter_test)\n",
    "print(f'RMSE: {sqrt(mean_squared_error(yb2_inter_test, ridge_b2_pred))}')\n",
    "print(f'MAE: {mean_absolute_error(yb2_inter_test, ridge_b2_pred)}')"
   ]
  },
  {
   "cell_type": "markdown",
   "metadata": {},
   "source": [
    "### Pitching Dataframe"
   ]
  },
  {
   "cell_type": "code",
   "execution_count": 59,
   "metadata": {},
   "outputs": [],
   "source": [
    "px1 = pitch_df.drop(columns=[\"Win_Loss_Per\",\"Year\",\"Team\",\n",
    "                          \"Pitch_HW\",\n",
    "                          \"Pitch_AE\"])\n",
    "py1 = pitch_df[\"Win_Loss_Per\"]\n",
    "#---------------------\n",
    "px2 = pitch_df.drop(columns=[\"Win_Loss_Per\",\"Year\",\"Team\"])\n",
    "py2 = pitch_df[\"Win_Loss_Per\"]\n",
    "#---------------------"
   ]
  },
  {
   "cell_type": "code",
   "execution_count": 64,
   "metadata": {},
   "outputs": [],
   "source": [
    "#Checking how overall data models perform on these datasets\n",
    "#print(lasso_1.score(px1,py1)) #Calling original LassoCV model\n",
    "#print(lasso_2.score(px2,py2)) #Performed slightly better with feature engineering.\n",
    "#RESULTS ARE:\n",
    "#0.1051558451434439\n",
    "#0.1023693583764036"
   ]
  },
  {
   "cell_type": "code",
   "execution_count": 75,
   "metadata": {},
   "outputs": [],
   "source": [
    "Xp1_train, Xp1_test, yp1_train, yp1_test = train_test_split(px1,py1,test_size=.3,random_state=43)\n",
    "Xp2_inter, Xp2_inter_test, yp2_inter, yp2_inter_test = train_test_split(px2,py2,test_size=.3,random_state=43)"
   ]
  },
  {
   "cell_type": "code",
   "execution_count": null,
   "metadata": {},
   "outputs": [],
   "source": [
    "ridge_p1_pred = ridge_p1.predict(Xb1_test)\n",
    "print(f'RMSE: {sqrt(mean_squared_error(yb1_test, ridge_b1_pred))}')\n",
    "print(f'MAE: {mean_absolute_error(yb1_test, ridge_b1_pred)}')"
   ]
  },
  {
   "cell_type": "markdown",
   "metadata": {},
   "source": [
    "#### Fitting ridge model on pitching dataframe"
   ]
  },
  {
   "cell_type": "code",
   "execution_count": 76,
   "metadata": {},
   "outputs": [
    {
     "data": {
      "text/plain": [
       "(0.21908915575320798, 0.17764000337109032)"
      ]
     },
     "execution_count": 76,
     "metadata": {},
     "output_type": "execute_result"
    }
   ],
   "source": [
    "ridge_p1 = RidgeCV(alphas=alphas,cv=kf)\n",
    "ridge_p1.fit(Xp1_train,yp1_train)\n",
    "ridge_p1.score(Xp1_test,yp1_test), ridge_p1.score(Xp1_train,yp1_train)"
   ]
  },
  {
   "cell_type": "code",
   "execution_count": 83,
   "metadata": {},
   "outputs": [
    {
     "data": {
      "text/plain": [
       "[('Total_Adj_Pitching_Salary', 3.1618666933202847e-09),\n",
       " ('Average_Pitching_Age', -0.011821347763965172),\n",
       " ('Average_Years_Pitching', 0.09295439507037721),\n",
       " ('Average_Height_of_Pitcher', 0.008595370333977755),\n",
       " ('Average_Weight_of_Pitcher', -0.0022829692730271774)]"
      ]
     },
     "execution_count": 83,
     "metadata": {},
     "output_type": "execute_result"
    }
   ],
   "source": [
    "list(zip(Xp1_train.columns, ridge_p1.coef_))"
   ]
  },
  {
   "cell_type": "code",
   "execution_count": 89,
   "metadata": {},
   "outputs": [
    {
     "name": "stdout",
     "output_type": "stream",
     "text": [
      "RMSE: 0.25187579930549486\n",
      "MAE: 0.20121865670611086\n"
     ]
    }
   ],
   "source": [
    "ridge_p1_pred = ridge_p1.predict(Xp1_test)\n",
    "print(f'RMSE: {sqrt(mean_squared_error(yp1_test, ridge_p1_pred))}')\n",
    "print(f'MAE: {mean_absolute_error(yp1_test, ridge_p1_pred)}')"
   ]
  },
  {
   "cell_type": "markdown",
   "metadata": {},
   "source": [
    "### Fitting ridge model on pitching dataframe WITH feature engineering"
   ]
  },
  {
   "cell_type": "code",
   "execution_count": 79,
   "metadata": {},
   "outputs": [],
   "source": [
    "#ridge_p2 = RidgeCV(alphas=alphas,cv=kf)\n",
    "#ridge_p2.fit(Xp2_inter,yp2_inter)\n",
    "#ridge_p2.score(Xp2_inter_test,yp2_inter_test), ridge_p2.score(Xp2_inter,yp2_inter)\n",
    "#RESULTS PASTED BELOW; long error message.\n",
    "#(0.21797206713759476, 0.17762659866056074)"
   ]
  },
  {
   "cell_type": "code",
   "execution_count": 85,
   "metadata": {},
   "outputs": [
    {
     "data": {
      "text/plain": [
       "[('Total_Adj_Pitching_Salary', 3.109457415962114e-09),\n",
       " ('Average_Pitching_Age', -0.02773396046166415),\n",
       " ('Average_Years_Pitching', 0.008930325173823517),\n",
       " ('Average_Height_of_Pitcher', 0.002072778691798591),\n",
       " ('Average_Weight_of_Pitcher', -0.004192504739360261),\n",
       " ('Pitch_HW', 0.0020258313360359695),\n",
       " ('Pitch_AE', 0.016917665407446752)]"
      ]
     },
     "execution_count": 85,
     "metadata": {},
     "output_type": "execute_result"
    }
   ],
   "source": [
    "list(zip(Xp2_inter.columns, ridge_p2.coef_))"
   ]
  },
  {
   "cell_type": "code",
   "execution_count": 88,
   "metadata": {},
   "outputs": [
    {
     "name": "stdout",
     "output_type": "stream",
     "text": [
      "RMSE: 0.25205588838880016\n",
      "MAE: 0.20133295624949235\n"
     ]
    }
   ],
   "source": [
    "ridge_p2_pred = ridge_p2.predict(Xp2_inter_test)\n",
    "print(f'RMSE: {sqrt(mean_squared_error(yp2_inter_test, ridge_p2_pred))}')\n",
    "print(f'MAE: {mean_absolute_error(yp2_inter_test, ridge_p2_pred)}')"
   ]
  },
  {
   "cell_type": "code",
   "execution_count": null,
   "metadata": {},
   "outputs": [],
   "source": []
  },
  {
   "cell_type": "code",
   "execution_count": null,
   "metadata": {},
   "outputs": [],
   "source": []
  },
  {
   "cell_type": "code",
   "execution_count": 109,
   "metadata": {},
   "outputs": [],
   "source": [
    "from scipy import stats"
   ]
  },
  {
   "cell_type": "code",
   "execution_count": 110,
   "metadata": {},
   "outputs": [
    {
     "data": {
      "image/png": "[encoded data removed]",
      "text/plain": [
       "<Figure size 432x288 with 1 Axes>"
      ]
     },
     "metadata": {
      "needs_background": "light"
     },
     "output_type": "display_data"
    }
   ],
   "source": [
    "stats.probplot(ridge_resid, dist=\"norm\", plot=plt)\n",
    "plt.title(\"Normal Q-Q plot\")\n",
    "plt.show() "
   ]
  },
  {
   "cell_type": "code",
   "execution_count": null,
   "metadata": {},
   "outputs": [],
   "source": []
  },
  {
   "cell_type": "code",
   "execution_count": 72,
   "metadata": {},
   "outputs": [
    {
     "name": "stdout",
     "output_type": "stream",
     "text": [
      "RMSE: 0.060248884803018855\n",
      "MAE: 0.19555858177941277\n"
     ]
    }
   ],
   "source": [
    "ridge_2_pred = ridge_model_2.predict(X_test)\n",
    "print(f'RMSE: {sqrt(mean_squared_error(y_test, ridge_2_pred))}')\n",
    "print(f'MAE: {mean_absolute_error(y_test, ridge_2_pred)}')"
   ]
  },
  {
   "cell_type": "code",
   "execution_count": null,
   "metadata": {},
   "outputs": [],
   "source": []
  },
  {
   "cell_type": "code",
   "execution_count": null,
   "metadata": {},
   "outputs": [],
   "source": []
  },
  {
   "cell_type": "code",
   "execution_count": null,
   "metadata": {},
   "outputs": [],
   "source": []
  },
  {
   "cell_type": "code",
   "execution_count": null,
   "metadata": {},
   "outputs": [],
   "source": []
  },
  {
   "cell_type": "code",
   "execution_count": null,
   "metadata": {},
   "outputs": [],
   "source": []
  },
  {
   "cell_type": "code",
   "execution_count": null,
   "metadata": {},
   "outputs": [],
   "source": []
  },
  {
   "cell_type": "markdown",
   "metadata": {},
   "source": [
    "### OLS CHARTS FOR P-VALUES!!"
   ]
  },
  {
   "cell_type": "code",
   "execution_count": null,
   "metadata": {},
   "outputs": [],
   "source": []
  },
  {
   "cell_type": "code",
   "execution_count": null,
   "metadata": {},
   "outputs": [],
   "source": []
  },
  {
   "cell_type": "code",
   "execution_count": null,
   "metadata": {},
   "outputs": [],
   "source": [
    "#"
   ]
  },
  {
   "cell_type": "markdown",
   "metadata": {},
   "source": [
    "### EDA exploration:"
   ]
  },
  {
   "cell_type": "code",
   "execution_count": null,
   "metadata": {},
   "outputs": [],
   "source": [
    "sns.pairplot(all_df,plot_kws=dict(alpha=.10))"
   ]
  },
  {
   "cell_type": "code",
   "execution_count": null,
   "metadata": {},
   "outputs": [],
   "source": [
    "plt.scatter(all_df[\"Average_Team_Height\"],all_df[\"Average_Team_Weight\"],alpha=.1)"
   ]
  },
  {
   "cell_type": "code",
   "execution_count": null,
   "metadata": {},
   "outputs": [],
   "source": [
    "plt.scatter(all_df[\"Average_Team_Age\"],all_df[\"Average_Years_Play\"])"
   ]
  },
  {
   "cell_type": "code",
   "execution_count": null,
   "metadata": {},
   "outputs": [],
   "source": [
    "yearly_df = df.groupby(\"Year\").Total_Adj_Team_Salary.mean()\n",
    "yearly_weight_df = df.groupby(\"Year\").Average_Team_Weight.mean()\n",
    "yearly_height_df = df.groupby(\"Year\").Average_Team_Height.mean()\n",
    "yearly_exp_df = df.groupby(\"Year\").Average_Years_Play.mean()\n",
    "yearly_age_df = df.groupby(\"Year\").Average_Team_Age.mean()"
   ]
  },
  {
   "cell_type": "code",
   "execution_count": null,
   "metadata": {},
   "outputs": [],
   "source": [
    "fig = plt.figure(figsize=(15,5))\n",
    "#plt.title(\"Average Aggregates by Team\")\n",
    "plt.subplot(1,5,1)\n",
    "plt.plot(yearly_df)\n",
    "plt.ylabel(\"In Hundred Millions\")\n",
    "plt.title(\"Payroll\")\n",
    "#plt.xticks(np.arange(70,77,2))\n",
    "#plt.yticks(np.arange(170,260,20))\n",
    "plt.subplot(1,5,2)\n",
    "plt.plot(yearly_weight_df)\n",
    "plt.ylabel(\"In Lbs\")\n",
    "plt.title(\"Weight\")\n",
    "#plt.xticks(np.arange(70,77,2))\n",
    "#plt.yticks(np.arange(170,260,20))\n",
    "plt.subplot(1,5,3)\n",
    "plt.plot(yearly_height_df)\n",
    "plt.ylabel(\"In Inches\")\n",
    "plt.title(\"Height\")\n",
    "#plt.xticks(np.arange(70,77,2))\n",
    "#plt.yticks(np.arange(170,260,20))\n",
    "plt.subplot(1,5,4)\n",
    "plt.plot(yearly_exp_df)\n",
    "plt.ylabel(\"In Years\")\n",
    "plt.title(\"Playing Experience\")\n",
    "plt.subplot(1,5,5)\n",
    "plt.plot(yearly_age_df)\n",
    "plt.ylabel(\"In Years\")\n",
    "plt.title(\"Age\")\n",
    "plt.tight_layout()"
   ]
  },
  {
   "cell_type": "code",
   "execution_count": null,
   "metadata": {},
   "outputs": [],
   "source": []
  },
  {
   "cell_type": "code",
   "execution_count": null,
   "metadata": {},
   "outputs": [],
   "source": []
  },
  {
   "cell_type": "code",
   "execution_count": null,
   "metadata": {},
   "outputs": [],
   "source": [
    "plt.subplot(1,3,1)\n",
    "plt.scatter(all_df[\"Average_Team_Height\"],all_df[\"Average_Team_Weight\"],alpha=.10)\n",
    "plt.title(\"All\")\n",
    "plt.subplot(1,3,2)\n",
    "plt.scatter(bat_df[\"Average_Height_of_Batter\"],bat_df[\"Average_Weight_of_Batter\"],alpha=.10)\n",
    "plt.title(\"Batting\")\n",
    "plt.subplot(1,3,3)\n",
    "plt.scatter(pitch_df[\"Average_Height_of_Pitcher\"],pitch_df[\"Average_Weight_of_Pitcher\"],alpha=.10)\n",
    "plt.title(\"Pitching\")\n",
    "plt.tight_layout()"
   ]
  },
  {
   "cell_type": "code",
   "execution_count": null,
   "metadata": {},
   "outputs": [],
   "source": [
    "plt.subplot(1,3,1)\n",
    "plt.scatter(all_df[\"Average_Team_Height\"],all_df[\"Average_Team_Weight\"],alpha=.05)\n",
    "plt.title(\"Combined\")\n",
    "plt.xticks(np.arange(70,77,2))\n",
    "plt.yticks(np.arange(170,260,20))\n",
    "plt.subplot(1,3,2)\n",
    "plt.scatter(bat_df[\"Average_Height_of_Batter\"],bat_df[\"Average_Weight_of_Batter\"],alpha=.05)\n",
    "plt.title(\"Batting\")\n",
    "plt.xticks(np.arange(70,77,2))\n",
    "plt.yticks(np.arange(170,260,20))\n",
    "#plt.figure(figsize=(2,2))\n",
    "plt.subplot(1,3,3)\n",
    "plt.scatter(pitch_df[\"Average_Height_of_Pitcher\"],pitch_df[\"Average_Weight_of_Pitcher\"],alpha=.05)\n",
    "plt.title(\"Pitching\")\n",
    "plt.xticks(np.arange(70,77,2))\n",
    "plt.yticks(np.arange(170,260,20))\n",
    "#plt.figure(figsize=(2,2))\n",
    "plt.tight_layout()"
   ]
  },
  {
   "cell_type": "code",
   "execution_count": null,
   "metadata": {},
   "outputs": [],
   "source": [
    "from statsmodels.tsa.seasonal import seasonal_decompose\n",
    "result = seasonal_decompose(yearly_df,\n",
    "                            model='additive',\n",
    "                            period = 1)\n",
    "fig = result.plot()"
   ]
  },
  {
   "cell_type": "code",
   "execution_count": null,
   "metadata": {},
   "outputs": [],
   "source": [
    "#result_2 = seasonal_decompose(yearly_weight_df,\n",
    "#                            model='additive',\n",
    "#                            period = 1)\n",
    "#fig = result_2.plot()"
   ]
  }
 ],
 "metadata": {
  "kernelspec": {
   "display_name": "Python 3",
   "language": "python",
   "name": "python3"
  },
  "language_info": {
   "codemirror_mode": {
    "name": "ipython",
    "version": 3
   },
   "file_extension": ".py",
   "mimetype": "text/x-python",
   "name": "python",
   "nbconvert_exporter": "python",
   "pygments_lexer": "ipython3",
   "version": "3.8.5"
  }
 },
 "nbformat": 4,
 "nbformat_minor": 5
}

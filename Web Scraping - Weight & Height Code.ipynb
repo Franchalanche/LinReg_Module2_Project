{
 "cells": [
  {
   "cell_type": "code",
   "execution_count": 1,
   "id": "93c9a372",
   "metadata": {},
   "outputs": [],
   "source": [
    "from selenium import webdriver\n",
    "from selenium.webdriver.common.keys import Keys\n",
    "chromedriver = \"/Applications/chromedriver\" # path to the chromedriver executable\n",
    "driver = webdriver.Chrome(chromedriver)"
   ]
  },
  {
   "cell_type": "code",
   "execution_count": 2,
   "id": "c9916a9f",
   "metadata": {},
   "outputs": [],
   "source": [
    "from selenium.webdriver.support.ui import WebDriverWait"
   ]
  },
  {
   "cell_type": "code",
   "execution_count": 3,
   "id": "ab7b48b5",
   "metadata": {},
   "outputs": [],
   "source": [
    "from statistics import mean"
   ]
  },
  {
   "cell_type": "code",
   "execution_count": 4,
   "id": "936f438c",
   "metadata": {},
   "outputs": [],
   "source": [
    "import pandas as pd"
   ]
  },
  {
   "cell_type": "code",
   "execution_count": 5,
   "id": "02e81fe6",
   "metadata": {},
   "outputs": [],
   "source": [
    "height_to_inches = {\"5'5\":65,\n",
    "\"5'6\":66,\n",
    "\"5'7\":67,\n",
    "\"5'8\":68,\n",
    "\"5'9\":69,\n",
    "\"5'10\":70,\n",
    "\"5'11\":71,\n",
    "\"6'0\":72, \n",
    "\"6'1\":73,\n",
    "\"6'2\":74,\n",
    "\"6'3\":75,\n",
    "\"6'4\":76,\n",
    "\"6'5\":77,\n",
    "\"6'6\":78,\n",
    "\"6'7\":79,\n",
    "\"6'8\":80,\n",
    "\"6'9\":81,\n",
    "\"6'10\":82,\n",
    "\"6'11\":83}"
   ]
  },
  {
   "cell_type": "code",
   "execution_count": 6,
   "id": "2652771f",
   "metadata": {},
   "outputs": [],
   "source": [
    "URL = \"https://www.baseball-reference.com/teams/CHW/2000-roster.shtml\""
   ]
  },
  {
   "cell_type": "code",
   "execution_count": 5,
   "id": "83799ed5",
   "metadata": {},
   "outputs": [],
   "source": [
    "driver.get(URL)"
   ]
  },
  {
   "cell_type": "code",
   "execution_count": 6,
   "id": "696110c3",
   "metadata": {},
   "outputs": [],
   "source": [
    "roster_table = driver.find_element_by_xpath('//table[@id=\"appearances\"]')\n",
    "roster_lines = roster_table.find_elements_by_css_selector('tr')"
   ]
  },
  {
   "cell_type": "code",
   "execution_count": 7,
   "id": "6a1a37ba",
   "metadata": {},
   "outputs": [
    {
     "name": "stdout",
     "output_type": "stream",
     "text": [
      "Name Age B T Ht Wt DoB Yrs G GS Batting Defense P C 1B 2B 3B SS LF CF RF OF DH PH PR WAR Salary\n",
      "-----\n",
      "Jeff Abbott 27 us US R L 6' 2\" 190 Aug 17, 1972 4 80 52 80 65 0 0 0 0 0 0 20 33 16 65 7 18 2 -0.3 $255,000\n",
      "-----\n",
      "Harold Baines HOF 41 us US L L 6' 2\" 175 Mar 15, 1959 21 24 15 24 0 0 0 0 0 0 0 0 0 0 0 16 9 0 -0.3\n",
      "-----\n",
      "James Baldwin 28 us US R R 6' 3\" 210 Jul 15, 1971 6 29 28 2 29 29 0 0 0 0 0 0 0 0 0 0 0 0 2.7 $3,300,000 All-Star\n",
      "-----\n",
      "Lorenzo Barcelo 22 do DO R R 6' 4\" 230 Aug 10, 1977 1st 22 1 0 22 22 0 0 0 0 0 0 0 0 0 0 0 0 0.8 $200,000\n",
      "-----\n"
     ]
    }
   ],
   "source": [
    "for item in roster_lines[:5]:\n",
    "    print(item.text)\n",
    "    print(\"-----\")"
   ]
  },
  {
   "cell_type": "code",
   "execution_count": 16,
   "id": "c7c1d3c1",
   "metadata": {},
   "outputs": [
    {
     "name": "stdout",
     "output_type": "stream",
     "text": [
      "['Name', 'Age', 'B', 'T', 'Ht', 'Wt', 'DoB', 'Yrs', 'G', 'GS', 'Batting', 'Defense', 'P', 'C', '1B', '2B', '3B', 'SS', 'LF', 'CF', 'RF', 'OF', 'PH', 'PR', 'WAR', 'Salary']\n"
     ]
    }
   ],
   "source": [
    "last_string = roster_lines[-1].text.split(\" \")\n",
    "print(last_string)"
   ]
  },
  {
   "cell_type": "code",
   "execution_count": 11,
   "id": "120dc183",
   "metadata": {},
   "outputs": [],
   "source": [
    "string_1 = roster_lines[1].text.split(\" \")"
   ]
  },
  {
   "cell_type": "code",
   "execution_count": 16,
   "id": "63f60a6c",
   "metadata": {},
   "outputs": [
    {
     "name": "stdout",
     "output_type": "stream",
     "text": [
      "Weight is 190\n",
      "Height is 6'  feet,  2\"  inches.\n",
      "Number of games pitched  0\n"
     ]
    }
   ],
   "source": [
    "print(\"Weight is\",string_1[9])\n",
    "print(\"Height is\",string_1[7],\" feet, \",string_1[8],\" inches.\")\n",
    "print(\"Number of games pitched \",string_1[18])"
   ]
  },
  {
   "cell_type": "code",
   "execution_count": 22,
   "id": "60012d7e",
   "metadata": {},
   "outputs": [
    {
     "name": "stdout",
     "output_type": "stream",
     "text": [
      "6'2\"\n"
     ]
    }
   ],
   "source": [
    "height = string_1[7] + string_1[8]\n",
    "print(height)"
   ]
  },
  {
   "cell_type": "code",
   "execution_count": 14,
   "id": "a43c6e3f",
   "metadata": {},
   "outputs": [],
   "source": [
    "string_2 = roster_lines[2].text.split(\" \")"
   ]
  },
  {
   "cell_type": "code",
   "execution_count": 18,
   "id": "f636e18e",
   "metadata": {},
   "outputs": [
    {
     "name": "stdout",
     "output_type": "stream",
     "text": [
      "Weight is 175\n",
      "Height is 6'  feet,  190  inches.\n",
      "Number of games pitched  0\n"
     ]
    }
   ],
   "source": [
    "print(\"Weight is\",string_2[10])\n",
    "print(\"Height is\",string_2[8],\" feet, \",string_1[9],\" inches.\")\n",
    "print(\"Number of games pitched \",string_2[19])"
   ]
  },
  {
   "cell_type": "code",
   "execution_count": 19,
   "id": "c05cfbb0",
   "metadata": {},
   "outputs": [],
   "source": [
    "string_3 = roster_lines[3].text.split(\" \")"
   ]
  },
  {
   "cell_type": "code",
   "execution_count": 20,
   "id": "b1ace384",
   "metadata": {},
   "outputs": [
    {
     "name": "stdout",
     "output_type": "stream",
     "text": [
      "Weight is 210\n",
      "Height is 6'  feet,  2\"  inches.\n",
      "Number of games pitched  29\n"
     ]
    }
   ],
   "source": [
    "print(\"Weight is\",string_3[9])\n",
    "print(\"Height is\",string_3[7],\" feet, \",string_1[8],\" inches.\")\n",
    "print(\"Number of games pitched \",string_3[18])"
   ]
  },
  {
   "cell_type": "code",
   "execution_count": 6,
   "id": "7bb832cb",
   "metadata": {},
   "outputs": [],
   "source": [
    "df = pd.read_csv(\"baseball_output7.csv\",converters={\"Year\":str})"
   ]
  },
  {
   "cell_type": "code",
   "execution_count": 12,
   "id": "b0608d5a",
   "metadata": {},
   "outputs": [
    {
     "name": "stderr",
     "output_type": "stream",
     "text": [
      "/var/folders/ny/g82ykkn10bd8fqbx1q14fk_m0000gn/T/ipykernel_54215/376720247.py:40: SettingWithCopyWarning: \n",
      "A value is trying to be set on a copy of a slice from a DataFrame\n",
      "\n",
      "See the caveats in the documentation: https://pandas.pydata.org/pandas-docs/stable/user_guide/indexing.html#returning-a-view-versus-a-copy\n",
      "  df[\"Average_Height_of_Pitcher\"][count]=mean(new_pitching_height_list)\n",
      "/var/folders/ny/g82ykkn10bd8fqbx1q14fk_m0000gn/T/ipykernel_54215/376720247.py:41: SettingWithCopyWarning: \n",
      "A value is trying to be set on a copy of a slice from a DataFrame\n",
      "\n",
      "See the caveats in the documentation: https://pandas.pydata.org/pandas-docs/stable/user_guide/indexing.html#returning-a-view-versus-a-copy\n",
      "  df[\"Average_Height_of_Batter\"][count]=mean(new_batting_height_list)\n",
      "/var/folders/ny/g82ykkn10bd8fqbx1q14fk_m0000gn/T/ipykernel_54215/376720247.py:42: SettingWithCopyWarning: \n",
      "A value is trying to be set on a copy of a slice from a DataFrame\n",
      "\n",
      "See the caveats in the documentation: https://pandas.pydata.org/pandas-docs/stable/user_guide/indexing.html#returning-a-view-versus-a-copy\n",
      "  df[\"Average_Weight_of_Pitcher\"][count]=mean(new_pitching_weight_list)\n",
      "/var/folders/ny/g82ykkn10bd8fqbx1q14fk_m0000gn/T/ipykernel_54215/376720247.py:43: SettingWithCopyWarning: \n",
      "A value is trying to be set on a copy of a slice from a DataFrame\n",
      "\n",
      "See the caveats in the documentation: https://pandas.pydata.org/pandas-docs/stable/user_guide/indexing.html#returning-a-view-versus-a-copy\n",
      "  df[\"Average_Weight_of_Batter\"][count]=mean(new_batting_weight_list)\n"
     ]
    }
   ],
   "source": [
    "count = 1\n",
    "while count < 2:    \n",
    "    #CHANGE DRIVER TO ROSTER\n",
    "    #Batting & pitching weights & heights\n",
    "    driver.get(df[\"Roster_URL\"][count])\n",
    "    batting_height_list = []\n",
    "    pitching_height_list = []\n",
    "    batting_weight_list = []\n",
    "    pitching_weight_list = []\n",
    "    new_batting_height_list = []\n",
    "    new_pitching_height_list = []\n",
    "    roster_table = driver.find_element_by_xpath('//table[@id=\"appearances\"]')\n",
    "    WebDriverWait(driver,3)\n",
    "    roster_lines = roster_table.find_elements_by_css_selector('tr')\n",
    "    i = 1\n",
    "    while i < len(roster_lines)-1:\n",
    "        string_row = roster_lines[i].text.split(\" \")\n",
    "        age = string_row[2]\n",
    "        if age.isdigit() == True:\n",
    "            weight = string_row[9]\n",
    "            height = str(string_row[7]+string_row[8]).replace(\"''\",\"\").replace(\"\"\"\"\"\",\"\").replace(\"\\\"\",\"\")\n",
    "            games_pitched = string_row[18]\n",
    "        #Account for players with \"HOF\", which shifts the data left\n",
    "        else:\n",
    "            weight = string_row[10]\n",
    "            height = str(string_row[8] + string_row[9]).replace(\"''\",\"\").replace(\"\"\"\"\"\",\"\").replace(\"\\\"\",\"\")\n",
    "            games_pitched = string_row[19]\n",
    "        if int(games_pitched)>0:\n",
    "            pitching_height_list.append(height)\n",
    "            pitching_weight_list.append(weight)\n",
    "            i+=1\n",
    "        else:\n",
    "            batting_height_list.append(height)\n",
    "            batting_weight_list.append(weight)\n",
    "            i+=1\n",
    "    new_batting_height_list = [height_to_inches[x] for x in batting_height_list]\n",
    "    new_pitching_height_list = [height_to_inches[x] for x in pitching_height_list]\n",
    "    new_batting_weight_list = [int(x) for x in batting_weight_list]\n",
    "    new_pitching_weight_list = [int(x) for x in pitching_weight_list]\n",
    "    df[\"Average_Height_of_Pitcher\"][count]=mean(new_pitching_height_list)\n",
    "    df[\"Average_Height_of_Batter\"][count]=mean(new_batting_height_list)\n",
    "    df[\"Average_Weight_of_Pitcher\"][count]=mean(new_pitching_weight_list)\n",
    "    df[\"Average_Weight_of_Batter\"][count]=mean(new_batting_weight_list)\n",
    "    WebDriverWait(driver,3)\n",
    "    count+=1"
   ]
  },
  {
   "cell_type": "code",
   "execution_count": 15,
   "id": "e3350edd",
   "metadata": {},
   "outputs": [
    {
     "data": {
      "text/html": [
       "<div>\n",
       "<style scoped>\n",
       "    .dataframe tbody tr th:only-of-type {\n",
       "        vertical-align: middle;\n",
       "    }\n",
       "\n",
       "    .dataframe tbody tr th {\n",
       "        vertical-align: top;\n",
       "    }\n",
       "\n",
       "    .dataframe thead th {\n",
       "        text-align: right;\n",
       "    }\n",
       "</style>\n",
       "<table border=\"1\" class=\"dataframe\">\n",
       "  <thead>\n",
       "    <tr style=\"text-align: right;\">\n",
       "      <th></th>\n",
       "      <th>Unnamed: 0</th>\n",
       "      <th>Year</th>\n",
       "      <th>Team</th>\n",
       "      <th>Overall TEAM</th>\n",
       "      <th>Wins</th>\n",
       "      <th>Losses</th>\n",
       "      <th>Win-Loss_%</th>\n",
       "      <th>Total_Batting_Salary</th>\n",
       "      <th>Average_Batting_Age</th>\n",
       "      <th>Average_Years_Batting</th>\n",
       "      <th>Total_Pitching_Salary</th>\n",
       "      <th>Average_Pitching_Age</th>\n",
       "      <th>Average_Years_Pitching</th>\n",
       "      <th>Average_Height_of_Pitcher</th>\n",
       "      <th>Average_Weight_of_Pitcher</th>\n",
       "      <th>Average_Height_of_Batter</th>\n",
       "      <th>Average_Weight_of_Batter</th>\n",
       "      <th>Batting_URL</th>\n",
       "      <th>Pitching_URL</th>\n",
       "      <th>Roster_URL</th>\n",
       "    </tr>\n",
       "  </thead>\n",
       "  <tbody>\n",
       "    <tr>\n",
       "      <th>0</th>\n",
       "      <td>0</td>\n",
       "      <td>1980</td>\n",
       "      <td>ATL</td>\n",
       "      <td>ATL</td>\n",
       "      <td>81</td>\n",
       "      <td>80</td>\n",
       "      <td>1.012500</td>\n",
       "      <td>2071667</td>\n",
       "      <td>26.7</td>\n",
       "      <td>6.125000</td>\n",
       "      <td>1706667.0</td>\n",
       "      <td>29.8</td>\n",
       "      <td>6.727273</td>\n",
       "      <td>NaN</td>\n",
       "      <td>NaN</td>\n",
       "      <td>NaN</td>\n",
       "      <td>NaN</td>\n",
       "      <td>https://www.baseball-reference.com/teams/ATL/1...</td>\n",
       "      <td>https://www.baseball-reference.com/teams/ATL/1...</td>\n",
       "      <td>https://www.baseball-reference.com/teams/ATL/1...</td>\n",
       "    </tr>\n",
       "    <tr>\n",
       "      <th>1</th>\n",
       "      <td>1</td>\n",
       "      <td>1981</td>\n",
       "      <td>ATL</td>\n",
       "      <td>ATL</td>\n",
       "      <td>50</td>\n",
       "      <td>56</td>\n",
       "      <td>0.892857</td>\n",
       "      <td>5571200</td>\n",
       "      <td>26.3</td>\n",
       "      <td>5.400000</td>\n",
       "      <td>3185367.0</td>\n",
       "      <td>31.9</td>\n",
       "      <td>6.687500</td>\n",
       "      <td>72.9375</td>\n",
       "      <td>186.25</td>\n",
       "      <td>71.916667</td>\n",
       "      <td>179.125</td>\n",
       "      <td>https://www.baseball-reference.com/teams/ATL/1...</td>\n",
       "      <td>https://www.baseball-reference.com/teams/ATL/1...</td>\n",
       "      <td>https://www.baseball-reference.com/teams/ATL/1...</td>\n",
       "    </tr>\n",
       "    <tr>\n",
       "      <th>2</th>\n",
       "      <td>2</td>\n",
       "      <td>1982</td>\n",
       "      <td>ATL</td>\n",
       "      <td>ATL</td>\n",
       "      <td>89</td>\n",
       "      <td>73</td>\n",
       "      <td>1.219178</td>\n",
       "      <td>2745166</td>\n",
       "      <td>26.9</td>\n",
       "      <td>5.358974</td>\n",
       "      <td>2026666.0</td>\n",
       "      <td>29.7</td>\n",
       "      <td>6.000000</td>\n",
       "      <td>NaN</td>\n",
       "      <td>NaN</td>\n",
       "      <td>NaN</td>\n",
       "      <td>NaN</td>\n",
       "      <td>https://www.baseball-reference.com/teams/ATL/1...</td>\n",
       "      <td>https://www.baseball-reference.com/teams/ATL/1...</td>\n",
       "      <td>https://www.baseball-reference.com/teams/ATL/1...</td>\n",
       "    </tr>\n",
       "    <tr>\n",
       "      <th>3</th>\n",
       "      <td>3</td>\n",
       "      <td>1983</td>\n",
       "      <td>ATL</td>\n",
       "      <td>ATL</td>\n",
       "      <td>88</td>\n",
       "      <td>74</td>\n",
       "      <td>1.189189</td>\n",
       "      <td>5008233</td>\n",
       "      <td>27.6</td>\n",
       "      <td>6.150000</td>\n",
       "      <td>1438333.0</td>\n",
       "      <td>29.2</td>\n",
       "      <td>6.470588</td>\n",
       "      <td>NaN</td>\n",
       "      <td>NaN</td>\n",
       "      <td>NaN</td>\n",
       "      <td>NaN</td>\n",
       "      <td>https://www.baseball-reference.com/teams/ATL/1...</td>\n",
       "      <td>https://www.baseball-reference.com/teams/ATL/1...</td>\n",
       "      <td>https://www.baseball-reference.com/teams/ATL/1...</td>\n",
       "    </tr>\n",
       "    <tr>\n",
       "      <th>4</th>\n",
       "      <td>4</td>\n",
       "      <td>1984</td>\n",
       "      <td>ATL</td>\n",
       "      <td>ATL</td>\n",
       "      <td>80</td>\n",
       "      <td>82</td>\n",
       "      <td>0.975610</td>\n",
       "      <td>5533333</td>\n",
       "      <td>27.7</td>\n",
       "      <td>6.710526</td>\n",
       "      <td>1383333.0</td>\n",
       "      <td>28.4</td>\n",
       "      <td>6.133333</td>\n",
       "      <td>NaN</td>\n",
       "      <td>NaN</td>\n",
       "      <td>NaN</td>\n",
       "      <td>NaN</td>\n",
       "      <td>https://www.baseball-reference.com/teams/ATL/1...</td>\n",
       "      <td>https://www.baseball-reference.com/teams/ATL/1...</td>\n",
       "      <td>https://www.baseball-reference.com/teams/ATL/1...</td>\n",
       "    </tr>\n",
       "  </tbody>\n",
       "</table>\n",
       "</div>"
      ],
      "text/plain": [
       "   Unnamed: 0  Year Team Overall TEAM  Wins  Losses  Win-Loss_%  \\\n",
       "0           0  1980  ATL          ATL    81      80    1.012500   \n",
       "1           1  1981  ATL          ATL    50      56    0.892857   \n",
       "2           2  1982  ATL          ATL    89      73    1.219178   \n",
       "3           3  1983  ATL          ATL    88      74    1.189189   \n",
       "4           4  1984  ATL          ATL    80      82    0.975610   \n",
       "\n",
       "   Total_Batting_Salary  Average_Batting_Age  Average_Years_Batting  \\\n",
       "0               2071667                 26.7               6.125000   \n",
       "1               5571200                 26.3               5.400000   \n",
       "2               2745166                 26.9               5.358974   \n",
       "3               5008233                 27.6               6.150000   \n",
       "4               5533333                 27.7               6.710526   \n",
       "\n",
       "   Total_Pitching_Salary  Average_Pitching_Age  Average_Years_Pitching  \\\n",
       "0              1706667.0                  29.8                6.727273   \n",
       "1              3185367.0                  31.9                6.687500   \n",
       "2              2026666.0                  29.7                6.000000   \n",
       "3              1438333.0                  29.2                6.470588   \n",
       "4              1383333.0                  28.4                6.133333   \n",
       "\n",
       "   Average_Height_of_Pitcher  Average_Weight_of_Pitcher  \\\n",
       "0                        NaN                        NaN   \n",
       "1                    72.9375                     186.25   \n",
       "2                        NaN                        NaN   \n",
       "3                        NaN                        NaN   \n",
       "4                        NaN                        NaN   \n",
       "\n",
       "   Average_Height_of_Batter  Average_Weight_of_Batter  \\\n",
       "0                       NaN                       NaN   \n",
       "1                 71.916667                   179.125   \n",
       "2                       NaN                       NaN   \n",
       "3                       NaN                       NaN   \n",
       "4                       NaN                       NaN   \n",
       "\n",
       "                                         Batting_URL  \\\n",
       "0  https://www.baseball-reference.com/teams/ATL/1...   \n",
       "1  https://www.baseball-reference.com/teams/ATL/1...   \n",
       "2  https://www.baseball-reference.com/teams/ATL/1...   \n",
       "3  https://www.baseball-reference.com/teams/ATL/1...   \n",
       "4  https://www.baseball-reference.com/teams/ATL/1...   \n",
       "\n",
       "                                        Pitching_URL  \\\n",
       "0  https://www.baseball-reference.com/teams/ATL/1...   \n",
       "1  https://www.baseball-reference.com/teams/ATL/1...   \n",
       "2  https://www.baseball-reference.com/teams/ATL/1...   \n",
       "3  https://www.baseball-reference.com/teams/ATL/1...   \n",
       "4  https://www.baseball-reference.com/teams/ATL/1...   \n",
       "\n",
       "                                          Roster_URL  \n",
       "0  https://www.baseball-reference.com/teams/ATL/1...  \n",
       "1  https://www.baseball-reference.com/teams/ATL/1...  \n",
       "2  https://www.baseball-reference.com/teams/ATL/1...  \n",
       "3  https://www.baseball-reference.com/teams/ATL/1...  \n",
       "4  https://www.baseball-reference.com/teams/ATL/1...  "
      ]
     },
     "execution_count": 15,
     "metadata": {},
     "output_type": "execute_result"
    }
   ],
   "source": [
    "df.head()"
   ]
  },
  {
   "cell_type": "code",
   "execution_count": null,
   "id": "2473214e",
   "metadata": {},
   "outputs": [],
   "source": [
    "df.to_csv('baseball_output8.csv')"
   ]
  },
  {
   "cell_type": "markdown",
   "id": "fc6a8e99",
   "metadata": {},
   "source": [
    "1:54 is the last run time"
   ]
  },
  {
   "cell_type": "code",
   "execution_count": null,
   "id": "9927f777",
   "metadata": {},
   "outputs": [],
   "source": []
  },
  {
   "cell_type": "code",
   "execution_count": null,
   "id": "622b5a6d",
   "metadata": {},
   "outputs": [],
   "source": []
  },
  {
   "cell_type": "code",
   "execution_count": null,
   "id": "34f9ae3c",
   "metadata": {},
   "outputs": [],
   "source": []
  },
  {
   "cell_type": "code",
   "execution_count": null,
   "id": "fd340224",
   "metadata": {},
   "outputs": [],
   "source": []
  }
 ],
 "metadata": {
  "kernelspec": {
   "display_name": "Python [conda env:metis] *",
   "language": "python",
   "name": "conda-env-metis-py"
  },
  "language_info": {
   "codemirror_mode": {
    "name": "ipython",
    "version": 3
   },
   "file_extension": ".py",
   "mimetype": "text/x-python",
   "name": "python",
   "nbconvert_exporter": "python",
   "pygments_lexer": "ipython3",
   "version": "3.9.9"
  }
 },
 "nbformat": 4,
 "nbformat_minor": 5
}

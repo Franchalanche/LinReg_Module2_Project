{
 "cells": [
  {
   "cell_type": "code",
   "execution_count": 2,
   "id": "3f6961be",
   "metadata": {},
   "outputs": [],
   "source": [
    "from bs4 import BeautifulSoup as bs\n",
    "import requests\n",
    "from requests.adapters import HTTPAdapter\n",
    "from requests.packages.urllib3.util.retry import Retry\n",
    "\n",
    "roster_URL = \"https://www.baseball-reference.com/teams/CHW/2021-roster.shtml\"\n",
    "session = requests.Session()\n",
    "retry = Retry(connect=3,backoff_factor=0.5)\n",
    "adapter = HTTPAdapter(max_retries=retry)\n",
    "session.mount('http://',adapter)\n",
    "session.mount('https://',adapter)\n",
    "roster_response = requests.get(roster_URL)"
   ]
  },
  {
   "cell_type": "code",
   "execution_count": 20,
   "id": "87fa341d",
   "metadata": {},
   "outputs": [],
   "source": [
    "soup_roster=bs(roster_response.text)"
   ]
  },
  {
   "cell_type": "code",
   "execution_count": 6,
   "id": "56369088",
   "metadata": {},
   "outputs": [],
   "source": [
    "#print(soup.text)"
   ]
  },
  {
   "cell_type": "markdown",
   "id": "99e014ed",
   "metadata": {},
   "source": [
    "# #1 Wins & Losses"
   ]
  },
  {
   "cell_type": "code",
   "execution_count": 27,
   "id": "c98d75d1",
   "metadata": {},
   "outputs": [],
   "source": [
    "record = soup.find_all('p')[2].text.split(\"\\n\")[2].strip().split(\"-\")\n",
    "wins = record[0]\n",
    "losses = record[1]\n",
    "\n",
    "#record = record.split(\"\\n\")"
   ]
  },
  {
   "cell_type": "code",
   "execution_count": 28,
   "id": "d59d8e8d",
   "metadata": {},
   "outputs": [
    {
     "name": "stdout",
     "output_type": "stream",
     "text": [
      "69\n"
     ]
    }
   ],
   "source": [
    "print(losses)"
   ]
  },
  {
   "cell_type": "markdown",
   "id": "67d45a7e",
   "metadata": {},
   "source": [
    "# #2 Total Batting Salary"
   ]
  },
  {
   "cell_type": "code",
   "execution_count": 21,
   "id": "0bf61d3c",
   "metadata": {},
   "outputs": [],
   "source": [
    "batting_url = \"https://www.baseball-reference.com/teams/CHW/2021-batting.shtml\"\n",
    "batting_response = requests.get(batting_url)\n",
    "soup_batting = bs(batting_response.content)"
   ]
  },
  {
   "cell_type": "code",
   "execution_count": 133,
   "id": "9d30fa9b",
   "metadata": {},
   "outputs": [],
   "source": [
    "total_salary = soup2.find_all(attrs={\"class\":\"table_container is_setup\",\"id\":\"div_players_value_batting\"})"
   ]
  },
  {
   "cell_type": "code",
   "execution_count": 134,
   "id": "3d7ee35a",
   "metadata": {},
   "outputs": [
    {
     "name": "stdout",
     "output_type": "stream",
     "text": [
      "[]\n"
     ]
    }
   ],
   "source": [
    "print(total_salary)"
   ]
  },
  {
   "cell_type": "code",
   "execution_count": 143,
   "id": "8d280abf",
   "metadata": {},
   "outputs": [],
   "source": [
    "h1 = soup2.find_all('table',{\"class\":\"sortable stats_table now_sortable sticky_table eq1 re1 le1\"})"
   ]
  },
  {
   "cell_type": "code",
   "execution_count": 144,
   "id": "7b4171f3",
   "metadata": {},
   "outputs": [
    {
     "name": "stdout",
     "output_type": "stream",
     "text": [
      "[]\n"
     ]
    }
   ],
   "source": [
    "print(h1)"
   ]
  },
  {
   "cell_type": "code",
   "execution_count": 145,
   "id": "6d71b697",
   "metadata": {},
   "outputs": [],
   "source": [
    "h1 = soup2.find_all('table')"
   ]
  },
  {
   "cell_type": "code",
   "execution_count": 6,
   "id": "77e72662",
   "metadata": {},
   "outputs": [],
   "source": [
    "#print(h1)"
   ]
  },
  {
   "cell_type": "code",
   "execution_count": 9,
   "id": "25795285",
   "metadata": {},
   "outputs": [
    {
     "data": {
      "text/plain": [
       "'$111,333,333'"
      ]
     },
     "execution_count": 9,
     "metadata": {},
     "output_type": "execute_result"
    }
   ],
   "source": [
    "from selenium import webdriver\n",
    "from selenium.webdriver.common.keys import Keys\n",
    "chromedriver = \"/Applications/chromedriver\" # path to the chromedriver executable\n",
    "driver = webdriver.Chrome(chromedriver)\n",
    "driver.get(batting_url)\n",
    "batting_salary = driver.find_elements_by_xpath('//td[contains(@data-stat, \"Salary\")]')\n",
    "batting_salary[-1].text"
   ]
  },
  {
   "cell_type": "code",
   "execution_count": 32,
   "id": "fbdd1ed3",
   "metadata": {},
   "outputs": [],
   "source": [
    "total_batting_salary = int(batting_salary[-1].text.replace(\",\",\"\").replace(\"$\",\"\"))"
   ]
  },
  {
   "cell_type": "code",
   "execution_count": 33,
   "id": "49adf403",
   "metadata": {},
   "outputs": [
    {
     "name": "stdout",
     "output_type": "stream",
     "text": [
      "111333333\n"
     ]
    }
   ],
   "source": [
    "print(total_batting_salary)"
   ]
  },
  {
   "cell_type": "code",
   "execution_count": 14,
   "id": "8d8d8975",
   "metadata": {},
   "outputs": [
    {
     "data": {
      "text/plain": [
       "int"
      ]
     },
     "execution_count": 14,
     "metadata": {},
     "output_type": "execute_result"
    }
   ],
   "source": [
    "type(total_salary)"
   ]
  },
  {
   "cell_type": "markdown",
   "id": "550cfd73",
   "metadata": {},
   "source": [
    "# #3 Total Pitching Salary"
   ]
  },
  {
   "cell_type": "code",
   "execution_count": 11,
   "id": "d82c9635",
   "metadata": {},
   "outputs": [],
   "source": [
    "pitching_url = \"https://www.baseball-reference.com/teams/CHW/2021-pitching.shtml\""
   ]
  },
  {
   "cell_type": "code",
   "execution_count": 65,
   "id": "f0d1da77",
   "metadata": {},
   "outputs": [],
   "source": [
    "driver.get(pitching_url)\n",
    "pitch_salary = driver.find_elements_by_xpath('//td[contains(@data-stat,\"Salary\")]')"
   ]
  },
  {
   "cell_type": "code",
   "execution_count": 66,
   "id": "8c21aaf9",
   "metadata": {},
   "outputs": [
    {
     "data": {
      "text/plain": [
       "'$43,446,333'"
      ]
     },
     "execution_count": 66,
     "metadata": {},
     "output_type": "execute_result"
    }
   ],
   "source": [
    "pitch_salary[-1].text"
   ]
  },
  {
   "cell_type": "code",
   "execution_count": 67,
   "id": "8fb63219",
   "metadata": {},
   "outputs": [
    {
     "data": {
      "text/plain": [
       "<selenium.webdriver.remote.webelement.WebElement (session=\"a5d5639e26c89e24dbe29e0bac7a5f2f\", element=\"630387f8-0b09-47f1-b9c9-3323fc12616a\")>"
      ]
     },
     "execution_count": 67,
     "metadata": {},
     "output_type": "execute_result"
    }
   ],
   "source": [
    "pitch_salary[-1]"
   ]
  },
  {
   "cell_type": "code",
   "execution_count": 68,
   "id": "97bfeb98",
   "metadata": {},
   "outputs": [],
   "source": [
    "total_pitching_salary = int(pitch_salary[-1].text.replace(\"$\",\"\").replace(\",\",\"\"))"
   ]
  },
  {
   "cell_type": "code",
   "execution_count": 69,
   "id": "0856fdaa",
   "metadata": {},
   "outputs": [
    {
     "name": "stdout",
     "output_type": "stream",
     "text": [
      "43446333\n"
     ]
    }
   ],
   "source": [
    "print(total_salary)"
   ]
  },
  {
   "cell_type": "markdown",
   "id": "8082cd98",
   "metadata": {},
   "source": [
    "# #4 Average Batting Age"
   ]
  },
  {
   "cell_type": "code",
   "execution_count": null,
   "id": "29d27613",
   "metadata": {},
   "outputs": [],
   "source": [
    "from selenium import webdriver\n",
    "from selenium.webdriver.common.keys import Keys\n",
    "chromedriver = \"/Applications/chromedriver\" # path to the chromedriver executable\n",
    "driver = webdriver.Chrome(chromedriver)\n",
    "batting_url = \"https://www.baseball-reference.com/teams/CHW/2021-batting.shtml\""
   ]
  },
  {
   "cell_type": "code",
   "execution_count": 74,
   "id": "15765929",
   "metadata": {},
   "outputs": [],
   "source": [
    "driver.get(batting_url)\n",
    "#//div[@id='..' and @class='...]\n",
    "#team_total = driver.find_elements_by_xpath('//td[contains(@data-stat,\"age\")]')\n",
    "#batting_age = driver.find_elements_by_xpath('//td[contains(@data-stat, \"age\")]')\n",
    "#batting_age[-1].text\n",
    "#total_row = driver.find_elements_by_xpath('//tr[not(@class=\"thead\")]')[-1]\n",
    "#total_row = driver.find_elements_by_xpath('//tfoot/tr[not(@class=\"thead\")]')\n",
    "total_row = driver.find_elements_by_xpath('//table[@id=\"players_value_batting\"]/tfoot/tr[not(@class=\"thead\")]')\n",
    "#print(total_row)"
   ]
  },
  {
   "cell_type": "code",
   "execution_count": 75,
   "id": "bd67ea18",
   "metadata": {},
   "outputs": [
    {
     "name": "stdout",
     "output_type": "stream",
     "text": [
      "Team Total 28.1 1666 6084 69 0 -2 -34 -4 28 3.9 205 233 23.8 .502 .502 26.9 -3.1 267 $111,333,333\n"
     ]
    }
   ],
   "source": [
    "for item in total_row:\n",
    "    print(item.text)"
   ]
  },
  {
   "cell_type": "code",
   "execution_count": null,
   "id": "66775030",
   "metadata": {},
   "outputs": [],
   "source": []
  },
  {
   "cell_type": "code",
   "execution_count": 18,
   "id": "e5399325",
   "metadata": {},
   "outputs": [
    {
     "name": "stdout",
     "output_type": "stream",
     "text": [
      "27\n"
     ]
    }
   ],
   "source": [
    "print(average_batting_age)"
   ]
  },
  {
   "cell_type": "code",
   "execution_count": 19,
   "id": "51329f65",
   "metadata": {},
   "outputs": [
    {
     "name": "stdout",
     "output_type": "stream",
     "text": [
      "27\n"
     ]
    }
   ],
   "source": [
    "print(batting_age[-1].text)"
   ]
  },
  {
   "cell_type": "code",
   "execution_count": 52,
   "id": "932fca4f",
   "metadata": {},
   "outputs": [
    {
     "name": "stdout",
     "output_type": "stream",
     "text": [
      "546\n"
     ]
    }
   ],
   "source": [
    "list_length = len(team_total)\n",
    "print(list_length)"
   ]
  },
  {
   "cell_type": "code",
   "execution_count": null,
   "id": "9804654a",
   "metadata": {},
   "outputs": [],
   "source": []
  },
  {
   "cell_type": "markdown",
   "id": "605a6f99",
   "metadata": {},
   "source": [
    "# #5 Average Pitching Age"
   ]
  },
  {
   "cell_type": "code",
   "execution_count": 12,
   "id": "65502a14",
   "metadata": {},
   "outputs": [
    {
     "ename": "IndexError",
     "evalue": "list index out of range",
     "output_type": "error",
     "traceback": [
      "\u001b[0;31m---------------------------------------------------------------------------\u001b[0m",
      "\u001b[0;31mIndexError\u001b[0m                                Traceback (most recent call last)",
      "\u001b[0;32m/var/folders/ny/g82ykkn10bd8fqbx1q14fk_m0000gn/T/ipykernel_5782/517349471.py\u001b[0m in \u001b[0;36m<module>\u001b[0;34m\u001b[0m\n\u001b[1;32m      1\u001b[0m \u001b[0mdriver\u001b[0m\u001b[0;34m.\u001b[0m\u001b[0mget\u001b[0m\u001b[0;34m(\u001b[0m\u001b[0mpitching_url\u001b[0m\u001b[0;34m)\u001b[0m\u001b[0;34m\u001b[0m\u001b[0;34m\u001b[0m\u001b[0m\n\u001b[1;32m      2\u001b[0m \u001b[0mpitching_age\u001b[0m\u001b[0;34m=\u001b[0m\u001b[0mdriver\u001b[0m\u001b[0;34m.\u001b[0m\u001b[0mfind_elements_by_xpath\u001b[0m\u001b[0;34m(\u001b[0m\u001b[0;34m'//tfoot/td[contains(@data-stat,\"age\")]'\u001b[0m\u001b[0;34m)\u001b[0m\u001b[0;34m\u001b[0m\u001b[0;34m\u001b[0m\u001b[0m\n\u001b[0;32m----> 3\u001b[0;31m \u001b[0maverage_pitching_age\u001b[0m \u001b[0;34m=\u001b[0m \u001b[0mpitching_age\u001b[0m\u001b[0;34m[\u001b[0m\u001b[0;34m-\u001b[0m\u001b[0;36m1\u001b[0m\u001b[0;34m]\u001b[0m\u001b[0;34m\u001b[0m\u001b[0;34m\u001b[0m\u001b[0m\n\u001b[0m",
      "\u001b[0;31mIndexError\u001b[0m: list index out of range"
     ]
    }
   ],
   "source": [
    "driver.get(pitching_url)\n",
    "pitching_age=driver.find_elements_by_xpath('//tfoot/td[contains(@data-stat,\"age\")]')\n",
    "#average_pitching_age = pitching_age[-1]"
   ]
  },
  {
   "cell_type": "code",
   "execution_count": 14,
   "id": "5a6625b7",
   "metadata": {},
   "outputs": [
    {
     "name": "stdout",
     "output_type": "stream",
     "text": [
      "[]\n"
     ]
    }
   ],
   "source": [
    "print(pitching_age)"
   ]
  },
  {
   "cell_type": "markdown",
   "id": "054219de",
   "metadata": {},
   "source": [
    "# #6 Average Years as Batters"
   ]
  },
  {
   "cell_type": "code",
   "execution_count": 22,
   "id": "f6261de2",
   "metadata": {},
   "outputs": [],
   "source": [
    "years_batting = []\n",
    "for caption in soup_batting.find_all('caption'):\n",
    "    if caption.get_text() == \"Team Cumulative Batting\":\n",
    "        table = caption.find_parent('table',{'id':\"players_cumulative_batting\"})\n",
    "        for row in table:\n",
    "            if row.get('data-stat') == 'seasons':"
   ]
  },
  {
   "cell_type": "code",
   "execution_count": 23,
   "id": "0dd24a11",
   "metadata": {},
   "outputs": [
    {
     "data": {
      "text/plain": [
       "[]"
      ]
     },
     "execution_count": 23,
     "metadata": {},
     "output_type": "execute_result"
    }
   ],
   "source": [
    "years_batting"
   ]
  },
  {
   "cell_type": "code",
   "execution_count": 39,
   "id": "9eafd866",
   "metadata": {},
   "outputs": [],
   "source": [
    "driver.get(batting_url)\n",
    "batting_years = driver.find_elements_by_xpath('//td[contains(@data-stat,\"seasons\")]')"
   ]
  },
  {
   "cell_type": "code",
   "execution_count": 40,
   "id": "857e4fca",
   "metadata": {},
   "outputs": [],
   "source": [
    "def average_batting_years(year_list):\n",
    "    total = 0\n",
    "    count = 0\n",
    "    for element in year_list:\n",
    "        total += int(element.text)\n",
    "        count +=1\n",
    "    return total/count"
   ]
  },
  {
   "cell_type": "code",
   "execution_count": 32,
   "id": "cf081a14",
   "metadata": {},
   "outputs": [
    {
     "data": {
      "text/plain": [
       "8"
      ]
     },
     "execution_count": 32,
     "metadata": {},
     "output_type": "execute_result"
    }
   ],
   "source": [
    "int(batting_years[0].text)"
   ]
  },
  {
   "cell_type": "code",
   "execution_count": 35,
   "id": "bdfad359",
   "metadata": {},
   "outputs": [
    {
     "data": {
      "text/plain": [
       "'8'"
      ]
     },
     "execution_count": 35,
     "metadata": {},
     "output_type": "execute_result"
    }
   ],
   "source": [
    "batting_years[0].text"
   ]
  },
  {
   "cell_type": "code",
   "execution_count": 41,
   "id": "5f92df01",
   "metadata": {},
   "outputs": [
    {
     "data": {
      "text/plain": [
       "5.0"
      ]
     },
     "execution_count": 41,
     "metadata": {},
     "output_type": "execute_result"
    }
   ],
   "source": [
    "average_batting_years(batting_years)"
   ]
  },
  {
   "cell_type": "code",
   "execution_count": 46,
   "id": "93699781",
   "metadata": {},
   "outputs": [
    {
     "data": {
      "text/plain": [
       "47"
      ]
     },
     "execution_count": 46,
     "metadata": {},
     "output_type": "execute_result"
    }
   ],
   "source": [
    "len(batting_years)"
   ]
  },
  {
   "cell_type": "markdown",
   "id": "5496d2c4",
   "metadata": {},
   "source": [
    "# #7 Average Years as Pitchers"
   ]
  },
  {
   "cell_type": "code",
   "execution_count": null,
   "id": "71f69616",
   "metadata": {},
   "outputs": [],
   "source": []
  },
  {
   "cell_type": "markdown",
   "id": "50a398f0",
   "metadata": {},
   "source": [
    "# #8 Average Height of Batting Team"
   ]
  },
  {
   "cell_type": "code",
   "execution_count": null,
   "id": "0087cd02",
   "metadata": {},
   "outputs": [],
   "source": []
  },
  {
   "cell_type": "markdown",
   "id": "7072a06c",
   "metadata": {},
   "source": [
    "# #9 Average Height of Pitching Team"
   ]
  },
  {
   "cell_type": "code",
   "execution_count": null,
   "id": "474a1756",
   "metadata": {},
   "outputs": [],
   "source": []
  },
  {
   "cell_type": "markdown",
   "id": "96b2f64e",
   "metadata": {},
   "source": [
    "# #10 Average Weight of Batting Team"
   ]
  },
  {
   "cell_type": "code",
   "execution_count": null,
   "id": "73d02c91",
   "metadata": {},
   "outputs": [],
   "source": []
  },
  {
   "cell_type": "markdown",
   "id": "dd2457f2",
   "metadata": {},
   "source": [
    "# #11 Average Weight of Pitching Team"
   ]
  },
  {
   "cell_type": "code",
   "execution_count": null,
   "id": "5ff35406",
   "metadata": {},
   "outputs": [],
   "source": []
  }
 ],
 "metadata": {
  "kernelspec": {
   "display_name": "Python [conda env:metis] *",
   "language": "python",
   "name": "conda-env-metis-py"
  },
  "language_info": {
   "codemirror_mode": {
    "name": "ipython",
    "version": 3
   },
   "file_extension": ".py",
   "mimetype": "text/x-python",
   "name": "python",
   "nbconvert_exporter": "python",
   "pygments_lexer": "ipython3",
   "version": "3.9.9"
  }
 },
 "nbformat": 4,
 "nbformat_minor": 5
}

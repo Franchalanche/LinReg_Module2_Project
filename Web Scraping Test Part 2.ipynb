{
 "cells": [
  {
   "cell_type": "code",
   "execution_count": 1,
   "id": "3f6961be",
   "metadata": {},
   "outputs": [],
   "source": [
    "from selenium import webdriver\n",
    "from selenium.webdriver.common.keys import Keys\n",
    "chromedriver = \"/Applications/chromedriver\" # path to the chromedriver executable\n",
    "driver = webdriver.Chrome(chromedriver)"
   ]
  },
  {
   "cell_type": "code",
   "execution_count": 2,
   "id": "e1572a16",
   "metadata": {},
   "outputs": [],
   "source": [
    "from selenium.webdriver.support.ui import WebDriverWait"
   ]
  },
  {
   "cell_type": "code",
   "execution_count": 3,
   "id": "87fa341d",
   "metadata": {},
   "outputs": [],
   "source": [
    "batting_url = \"https://www.baseball-reference.com/teams/CHW/2020-batting.shtml\"\n",
    "pitching_url = \"https://www.baseball-reference.com/teams/CHW/2020-pitching.shtml\"\n",
    "roster_url = \"https://www.baseball-reference.com/teams/CHW/2020-roster.shtml\""
   ]
  },
  {
   "cell_type": "code",
   "execution_count": 3,
   "id": "56369088",
   "metadata": {},
   "outputs": [],
   "source": [
    "from statistics import mean"
   ]
  },
  {
   "cell_type": "markdown",
   "id": "99e014ed",
   "metadata": {},
   "source": [
    "# #1 Wins & Losses"
   ]
  },
  {
   "cell_type": "code",
   "execution_count": 25,
   "id": "c98d75d1",
   "metadata": {},
   "outputs": [],
   "source": [
    "driver.get(batting_url)\n",
    "record = driver.find_elements_by_tag_name('p')\n",
    "#wins = \n",
    "#losses = \n",
    "\n",
    "#record = record.split(\"\\n\")"
   ]
  },
  {
   "cell_type": "code",
   "execution_count": 8,
   "id": "d59d8e8d",
   "metadata": {},
   "outputs": [
    {
     "name": "stdout",
     "output_type": "stream",
     "text": [
      "Record: 93-69-0, 1st place in AL_Central (Schedule and Results)\n",
      "93 69\n"
     ]
    }
   ],
   "source": [
    "print(record[2].text)\n",
    "wins = record[2].text.split(\" \")[1].split(\"-\")[0]\n",
    "losses = record[2].text.split(\" \")[1].split(\"-\")[1]\n",
    "print(wins, losses)"
   ]
  },
  {
   "cell_type": "markdown",
   "id": "67d45a7e",
   "metadata": {},
   "source": [
    "# #2 Total Batting Salary"
   ]
  },
  {
   "cell_type": "code",
   "execution_count": 34,
   "id": "9d30fa9b",
   "metadata": {},
   "outputs": [],
   "source": [
    "value_batting = driver.find_elements_by_xpath('//table[@id=\"players_value_batting\"]/tfoot/tr[not(@class=\"thead\")]')"
   ]
  },
  {
   "cell_type": "code",
   "execution_count": 35,
   "id": "25795285",
   "metadata": {},
   "outputs": [],
   "source": [
    "value_batting_string = value_batting[0].text"
   ]
  },
  {
   "cell_type": "code",
   "execution_count": 36,
   "id": "bc59813a",
   "metadata": {},
   "outputs": [
    {
     "name": "stdout",
     "output_type": "stream",
     "text": [
      "Team Total 28.1 1666 6084 69 0 -2 -34 -4 28 3.9 205 233 23.8 .502 .502 26.9 -3.1 267 $111,333,333\n"
     ]
    }
   ],
   "source": [
    "print(value_batting_string)"
   ]
  },
  {
   "cell_type": "code",
   "execution_count": 42,
   "id": "d12eb88e",
   "metadata": {},
   "outputs": [],
   "source": [
    "batting_total_salary = int(value_batting_string.split(\" \")[-1].replace(\"$\",\"\").replace(\",\",\"\"))"
   ]
  },
  {
   "cell_type": "code",
   "execution_count": 43,
   "id": "1672d7b0",
   "metadata": {},
   "outputs": [
    {
     "name": "stdout",
     "output_type": "stream",
     "text": [
      "111333333.0\n"
     ]
    }
   ],
   "source": [
    "print(batting_total_salary)"
   ]
  },
  {
   "cell_type": "markdown",
   "id": "76e6ea58",
   "metadata": {},
   "source": [
    "# #3 Average Batting Age"
   ]
  },
  {
   "cell_type": "code",
   "execution_count": 44,
   "id": "3ad998ba",
   "metadata": {},
   "outputs": [],
   "source": [
    "batting_average_age = value_batting_string.split(\" \")[2].replace(\"$\",\"\").replace(\",\",\"\")"
   ]
  },
  {
   "cell_type": "code",
   "execution_count": 45,
   "id": "1d8d7040",
   "metadata": {},
   "outputs": [
    {
     "name": "stdout",
     "output_type": "stream",
     "text": [
      "28.1\n"
     ]
    }
   ],
   "source": [
    "print(batting_average_age)"
   ]
  },
  {
   "cell_type": "markdown",
   "id": "6549d1df",
   "metadata": {},
   "source": [
    "# #4 Average Years Batting"
   ]
  },
  {
   "cell_type": "code",
   "execution_count": 46,
   "id": "2354ae65",
   "metadata": {},
   "outputs": [],
   "source": [
    "years_batting = driver.find_elements_by_xpath('//td[contains(@data-stat,\"seasons\")]')"
   ]
  },
  {
   "cell_type": "code",
   "execution_count": 54,
   "id": "99c2cac3",
   "metadata": {},
   "outputs": [],
   "source": [
    "years_batting_list = []\n",
    "for item in years_batting:\n",
    "    years_batting_list.append(item.text)"
   ]
  },
  {
   "cell_type": "code",
   "execution_count": 67,
   "id": "eaf91e1a",
   "metadata": {},
   "outputs": [],
   "source": [
    "count = 0\n",
    "while count < len(years_batting_list):\n",
    "    years_batting_list[count] = int(years_batting_list[count])\n",
    "    count +=1"
   ]
  },
  {
   "cell_type": "code",
   "execution_count": 68,
   "id": "946732df",
   "metadata": {},
   "outputs": [
    {
     "name": "stdout",
     "output_type": "stream",
     "text": [
      "[8, 6, 5, 2, 1, 3, 3, 3, 2, 10, 5, 2, 5, 9, 6, 2, 1, 6, 10, 9, 11, 9, 2, 3, 10, 12, 2, 8, 2, 6, 10, 2, 8, 4, 3, 2, 6, 2, 7, 5, 1, 2, 7, 1, 4, 6, 2]\n"
     ]
    }
   ],
   "source": [
    "print(years_batting_list)"
   ]
  },
  {
   "cell_type": "code",
   "execution_count": 72,
   "id": "8d95fc85",
   "metadata": {},
   "outputs": [],
   "source": [
    "average_years_batting = mean(years_batting_list)"
   ]
  },
  {
   "cell_type": "code",
   "execution_count": 73,
   "id": "b55c7c44",
   "metadata": {},
   "outputs": [
    {
     "name": "stdout",
     "output_type": "stream",
     "text": [
      "5\n"
     ]
    }
   ],
   "source": [
    "print(average_years_batting)"
   ]
  },
  {
   "cell_type": "markdown",
   "id": "1af3a834",
   "metadata": {},
   "source": [
    "# #5 Total Pitching Salary"
   ]
  },
  {
   "cell_type": "code",
   "execution_count": 74,
   "id": "758d2d39",
   "metadata": {},
   "outputs": [],
   "source": [
    "driver.get(pitching_url)"
   ]
  },
  {
   "cell_type": "code",
   "execution_count": 75,
   "id": "0200e75d",
   "metadata": {},
   "outputs": [],
   "source": [
    "value_pitching = driver.find_elements_by_xpath('//table[@id=\"players_value_pitching\"]/tfoot/tr[not(@class=\"thead\")]')"
   ]
  },
  {
   "cell_type": "code",
   "execution_count": 76,
   "id": "7bc7cef1",
   "metadata": {},
   "outputs": [],
   "source": [
    "value_pitching_string = value_pitching[0].text"
   ]
  },
  {
   "cell_type": "code",
   "execution_count": 77,
   "id": "637dc5b5",
   "metadata": {},
   "outputs": [],
   "source": [
    "pitching_total_salary = float(value_pitching_string.split(\" \")[-1].replace(\"$\",\"\").replace(\",\",\"\"))"
   ]
  },
  {
   "cell_type": "code",
   "execution_count": 78,
   "id": "882e165e",
   "metadata": {},
   "outputs": [
    {
     "name": "stdout",
     "output_type": "stream",
     "text": [
      "43446333.0\n"
     ]
    }
   ],
   "source": [
    "print(pitching_total_salary)"
   ]
  },
  {
   "cell_type": "markdown",
   "id": "87999c68",
   "metadata": {},
   "source": [
    "# #6 Average Pitching Age"
   ]
  },
  {
   "cell_type": "code",
   "execution_count": 79,
   "id": "1c0f08e9",
   "metadata": {},
   "outputs": [],
   "source": [
    "pitching_average_age = value_pitching_string.split(\" \")[2].replace(\"$\",\"\").replace(\",\",\"\")"
   ]
  },
  {
   "cell_type": "code",
   "execution_count": 80,
   "id": "133d8dee",
   "metadata": {},
   "outputs": [
    {
     "name": "stdout",
     "output_type": "stream",
     "text": [
      "28.3\n"
     ]
    }
   ],
   "source": [
    "print(pitching_average_age)"
   ]
  },
  {
   "cell_type": "markdown",
   "id": "2e7a401a",
   "metadata": {},
   "source": [
    "# #7 Average Years Pitching"
   ]
  },
  {
   "cell_type": "code",
   "execution_count": 81,
   "id": "866cf98c",
   "metadata": {},
   "outputs": [],
   "source": [
    "years_pitching = driver.find_elements_by_xpath('//td[contains(@data-stat,\"seasons\")]')"
   ]
  },
  {
   "cell_type": "code",
   "execution_count": 82,
   "id": "21e8368a",
   "metadata": {},
   "outputs": [],
   "source": [
    "years_pitching_list = []\n",
    "for item in years_pitching:\n",
    "    years_pitching_list.append(item.text)"
   ]
  },
  {
   "cell_type": "code",
   "execution_count": 83,
   "id": "7c9202b9",
   "metadata": {},
   "outputs": [],
   "source": [
    "count = 0\n",
    "while count < len(years_pitching_list):\n",
    "    years_pitching_list[count] = int(years_pitching_list[count])\n",
    "    count +=1"
   ]
  },
  {
   "cell_type": "code",
   "execution_count": 84,
   "id": "e5fb5102",
   "metadata": {},
   "outputs": [],
   "source": [
    "average_years_pitching = mean(years_pitching_list)"
   ]
  },
  {
   "cell_type": "code",
   "execution_count": 85,
   "id": "d82c9635",
   "metadata": {},
   "outputs": [
    {
     "name": "stdout",
     "output_type": "stream",
     "text": [
      "4.666666666666667\n"
     ]
    }
   ],
   "source": [
    "print(average_years_pitching)"
   ]
  },
  {
   "cell_type": "markdown",
   "id": "5056744d",
   "metadata": {},
   "source": [
    "# #8 - #11 Average Height and Weight of Batting & Pitching"
   ]
  },
  {
   "cell_type": "code",
   "execution_count": 5,
   "id": "282d7ee3",
   "metadata": {},
   "outputs": [],
   "source": [
    "driver.get(roster_url)"
   ]
  },
  {
   "cell_type": "code",
   "execution_count": 6,
   "id": "8de9c67a",
   "metadata": {},
   "outputs": [],
   "source": [
    "height_to_inches = {\"5'5\":65,\n",
    "\"5'6\":66,\n",
    "\"5'7\":67,\n",
    "\"5'8\":68,\n",
    "\"5'9\":69,\n",
    "\"5'10\":70,\n",
    "\"5'11\":71,\n",
    "\"6'0\":72,                    \n",
    "\"6'1\":73,\n",
    "\"6'2\":74,\n",
    "\"6'3\":75,\n",
    "\"6'4\":76,\n",
    "\"6'5\":77,\n",
    "\"6'6\":78,\n",
    "\"6'7\":79,\n",
    "\"6'8\":80,\n",
    "\"6'9\":81,\n",
    "\"6'10\":82,\n",
    "\"6'11\":83}"
   ]
  },
  {
   "cell_type": "code",
   "execution_count": 8,
   "id": "94b9545d",
   "metadata": {},
   "outputs": [],
   "source": [
    "roster_table = driver.find_element_by_xpath('//table[@id=\"appearances\"]')\n",
    "roster_lines = roster_table.find_elements_by_css_selector('tr')"
   ]
  },
  {
   "cell_type": "code",
   "execution_count": 12,
   "id": "13bceba2",
   "metadata": {},
   "outputs": [
    {
     "data": {
      "text/plain": [
       "50"
      ]
     },
     "execution_count": 12,
     "metadata": {},
     "output_type": "execute_result"
    }
   ],
   "source": [
    "len(roster_lines)"
   ]
  },
  {
   "cell_type": "code",
   "execution_count": 16,
   "id": "fc8eba3c",
   "metadata": {},
   "outputs": [
    {
     "ename": "WebDriverException",
     "evalue": "Message: disconnected: Unable to receive message from renderer\n  (Session info: chrome=98.0.4758.80)\n",
     "output_type": "error",
     "traceback": [
      "\u001b[0;31m---------------------------------------------------------------------------\u001b[0m",
      "\u001b[0;31mWebDriverException\u001b[0m                        Traceback (most recent call last)",
      "\u001b[0;32m/var/folders/ny/g82ykkn10bd8fqbx1q14fk_m0000gn/T/ipykernel_31900/895091408.py\u001b[0m in \u001b[0;36m<module>\u001b[0;34m\u001b[0m\n\u001b[1;32m      1\u001b[0m \u001b[0mi\u001b[0m \u001b[0;34m=\u001b[0m \u001b[0;36m1\u001b[0m\u001b[0;34m\u001b[0m\u001b[0;34m\u001b[0m\u001b[0m\n\u001b[1;32m      2\u001b[0m \u001b[0;32mwhile\u001b[0m \u001b[0mi\u001b[0m \u001b[0;34m<\u001b[0m \u001b[0mlen\u001b[0m\u001b[0;34m(\u001b[0m\u001b[0mroster_lines\u001b[0m\u001b[0;34m)\u001b[0m\u001b[0;34m:\u001b[0m\u001b[0;34m\u001b[0m\u001b[0;34m\u001b[0m\u001b[0m\n\u001b[0;32m----> 3\u001b[0;31m     \u001b[0mrow\u001b[0m \u001b[0;34m=\u001b[0m \u001b[0mroster_lines\u001b[0m\u001b[0;34m[\u001b[0m\u001b[0mi\u001b[0m\u001b[0;34m]\u001b[0m\u001b[0;34m.\u001b[0m\u001b[0mtext\u001b[0m\u001b[0;34m.\u001b[0m\u001b[0msplit\u001b[0m\u001b[0;34m(\u001b[0m\u001b[0;34m\" \"\u001b[0m\u001b[0;34m)\u001b[0m\u001b[0;34m\u001b[0m\u001b[0;34m\u001b[0m\u001b[0m\n\u001b[0m\u001b[1;32m      4\u001b[0m     \u001b[0;31m#new_list = []\u001b[0m\u001b[0;34m\u001b[0m\u001b[0;34m\u001b[0m\u001b[0m\n\u001b[1;32m      5\u001b[0m     \u001b[0;31m#if row[]\u001b[0m\u001b[0;34m\u001b[0m\u001b[0;34m\u001b[0m\u001b[0m\n",
      "\u001b[0;32m~/opt/anaconda3/envs/metis/lib/python3.9/site-packages/selenium/webdriver/remote/webelement.py\u001b[0m in \u001b[0;36mtext\u001b[0;34m(self)\u001b[0m\n\u001b[1;32m     74\u001b[0m     \u001b[0;32mdef\u001b[0m \u001b[0mtext\u001b[0m\u001b[0;34m(\u001b[0m\u001b[0mself\u001b[0m\u001b[0;34m)\u001b[0m\u001b[0;34m:\u001b[0m\u001b[0;34m\u001b[0m\u001b[0;34m\u001b[0m\u001b[0m\n\u001b[1;32m     75\u001b[0m         \u001b[0;34m\"\"\"The text of the element.\"\"\"\u001b[0m\u001b[0;34m\u001b[0m\u001b[0;34m\u001b[0m\u001b[0m\n\u001b[0;32m---> 76\u001b[0;31m         \u001b[0;32mreturn\u001b[0m \u001b[0mself\u001b[0m\u001b[0;34m.\u001b[0m\u001b[0m_execute\u001b[0m\u001b[0;34m(\u001b[0m\u001b[0mCommand\u001b[0m\u001b[0;34m.\u001b[0m\u001b[0mGET_ELEMENT_TEXT\u001b[0m\u001b[0;34m)\u001b[0m\u001b[0;34m[\u001b[0m\u001b[0;34m'value'\u001b[0m\u001b[0;34m]\u001b[0m\u001b[0;34m\u001b[0m\u001b[0;34m\u001b[0m\u001b[0m\n\u001b[0m\u001b[1;32m     77\u001b[0m \u001b[0;34m\u001b[0m\u001b[0m\n\u001b[1;32m     78\u001b[0m     \u001b[0;32mdef\u001b[0m \u001b[0mclick\u001b[0m\u001b[0;34m(\u001b[0m\u001b[0mself\u001b[0m\u001b[0;34m)\u001b[0m\u001b[0;34m:\u001b[0m\u001b[0;34m\u001b[0m\u001b[0;34m\u001b[0m\u001b[0m\n",
      "\u001b[0;32m~/opt/anaconda3/envs/metis/lib/python3.9/site-packages/selenium/webdriver/remote/webelement.py\u001b[0m in \u001b[0;36m_execute\u001b[0;34m(self, command, params)\u001b[0m\n\u001b[1;32m    631\u001b[0m             \u001b[0mparams\u001b[0m \u001b[0;34m=\u001b[0m \u001b[0;34m{\u001b[0m\u001b[0;34m}\u001b[0m\u001b[0;34m\u001b[0m\u001b[0;34m\u001b[0m\u001b[0m\n\u001b[1;32m    632\u001b[0m         \u001b[0mparams\u001b[0m\u001b[0;34m[\u001b[0m\u001b[0;34m'id'\u001b[0m\u001b[0;34m]\u001b[0m \u001b[0;34m=\u001b[0m \u001b[0mself\u001b[0m\u001b[0;34m.\u001b[0m\u001b[0m_id\u001b[0m\u001b[0;34m\u001b[0m\u001b[0;34m\u001b[0m\u001b[0m\n\u001b[0;32m--> 633\u001b[0;31m         \u001b[0;32mreturn\u001b[0m \u001b[0mself\u001b[0m\u001b[0;34m.\u001b[0m\u001b[0m_parent\u001b[0m\u001b[0;34m.\u001b[0m\u001b[0mexecute\u001b[0m\u001b[0;34m(\u001b[0m\u001b[0mcommand\u001b[0m\u001b[0;34m,\u001b[0m \u001b[0mparams\u001b[0m\u001b[0;34m)\u001b[0m\u001b[0;34m\u001b[0m\u001b[0;34m\u001b[0m\u001b[0m\n\u001b[0m\u001b[1;32m    634\u001b[0m \u001b[0;34m\u001b[0m\u001b[0m\n\u001b[1;32m    635\u001b[0m     \u001b[0;32mdef\u001b[0m \u001b[0mfind_element\u001b[0m\u001b[0;34m(\u001b[0m\u001b[0mself\u001b[0m\u001b[0;34m,\u001b[0m \u001b[0mby\u001b[0m\u001b[0;34m=\u001b[0m\u001b[0mBy\u001b[0m\u001b[0;34m.\u001b[0m\u001b[0mID\u001b[0m\u001b[0;34m,\u001b[0m \u001b[0mvalue\u001b[0m\u001b[0;34m=\u001b[0m\u001b[0;32mNone\u001b[0m\u001b[0;34m)\u001b[0m\u001b[0;34m:\u001b[0m\u001b[0;34m\u001b[0m\u001b[0;34m\u001b[0m\u001b[0m\n",
      "\u001b[0;32m~/opt/anaconda3/envs/metis/lib/python3.9/site-packages/selenium/webdriver/remote/webdriver.py\u001b[0m in \u001b[0;36mexecute\u001b[0;34m(self, driver_command, params)\u001b[0m\n\u001b[1;32m    319\u001b[0m         \u001b[0mresponse\u001b[0m \u001b[0;34m=\u001b[0m \u001b[0mself\u001b[0m\u001b[0;34m.\u001b[0m\u001b[0mcommand_executor\u001b[0m\u001b[0;34m.\u001b[0m\u001b[0mexecute\u001b[0m\u001b[0;34m(\u001b[0m\u001b[0mdriver_command\u001b[0m\u001b[0;34m,\u001b[0m \u001b[0mparams\u001b[0m\u001b[0;34m)\u001b[0m\u001b[0;34m\u001b[0m\u001b[0;34m\u001b[0m\u001b[0m\n\u001b[1;32m    320\u001b[0m         \u001b[0;32mif\u001b[0m \u001b[0mresponse\u001b[0m\u001b[0;34m:\u001b[0m\u001b[0;34m\u001b[0m\u001b[0;34m\u001b[0m\u001b[0m\n\u001b[0;32m--> 321\u001b[0;31m             \u001b[0mself\u001b[0m\u001b[0;34m.\u001b[0m\u001b[0merror_handler\u001b[0m\u001b[0;34m.\u001b[0m\u001b[0mcheck_response\u001b[0m\u001b[0;34m(\u001b[0m\u001b[0mresponse\u001b[0m\u001b[0;34m)\u001b[0m\u001b[0;34m\u001b[0m\u001b[0;34m\u001b[0m\u001b[0m\n\u001b[0m\u001b[1;32m    322\u001b[0m             response['value'] = self._unwrap_value(\n\u001b[1;32m    323\u001b[0m                 response.get('value', None))\n",
      "\u001b[0;32m~/opt/anaconda3/envs/metis/lib/python3.9/site-packages/selenium/webdriver/remote/errorhandler.py\u001b[0m in \u001b[0;36mcheck_response\u001b[0;34m(self, response)\u001b[0m\n\u001b[1;32m    240\u001b[0m                 \u001b[0malert_text\u001b[0m \u001b[0;34m=\u001b[0m \u001b[0mvalue\u001b[0m\u001b[0;34m[\u001b[0m\u001b[0;34m'alert'\u001b[0m\u001b[0;34m]\u001b[0m\u001b[0;34m.\u001b[0m\u001b[0mget\u001b[0m\u001b[0;34m(\u001b[0m\u001b[0;34m'text'\u001b[0m\u001b[0;34m)\u001b[0m\u001b[0;34m\u001b[0m\u001b[0;34m\u001b[0m\u001b[0m\n\u001b[1;32m    241\u001b[0m             \u001b[0;32mraise\u001b[0m \u001b[0mexception_class\u001b[0m\u001b[0;34m(\u001b[0m\u001b[0mmessage\u001b[0m\u001b[0;34m,\u001b[0m \u001b[0mscreen\u001b[0m\u001b[0;34m,\u001b[0m \u001b[0mstacktrace\u001b[0m\u001b[0;34m,\u001b[0m \u001b[0malert_text\u001b[0m\u001b[0;34m)\u001b[0m\u001b[0;34m\u001b[0m\u001b[0;34m\u001b[0m\u001b[0m\n\u001b[0;32m--> 242\u001b[0;31m         \u001b[0;32mraise\u001b[0m \u001b[0mexception_class\u001b[0m\u001b[0;34m(\u001b[0m\u001b[0mmessage\u001b[0m\u001b[0;34m,\u001b[0m \u001b[0mscreen\u001b[0m\u001b[0;34m,\u001b[0m \u001b[0mstacktrace\u001b[0m\u001b[0;34m)\u001b[0m\u001b[0;34m\u001b[0m\u001b[0;34m\u001b[0m\u001b[0m\n\u001b[0m\u001b[1;32m    243\u001b[0m \u001b[0;34m\u001b[0m\u001b[0m\n\u001b[1;32m    244\u001b[0m     \u001b[0;32mdef\u001b[0m \u001b[0m_value_or_default\u001b[0m\u001b[0;34m(\u001b[0m\u001b[0mself\u001b[0m\u001b[0;34m,\u001b[0m \u001b[0mobj\u001b[0m\u001b[0;34m,\u001b[0m \u001b[0mkey\u001b[0m\u001b[0;34m,\u001b[0m \u001b[0mdefault\u001b[0m\u001b[0;34m)\u001b[0m\u001b[0;34m:\u001b[0m\u001b[0;34m\u001b[0m\u001b[0;34m\u001b[0m\u001b[0m\n",
      "\u001b[0;31mWebDriverException\u001b[0m: Message: disconnected: Unable to receive message from renderer\n  (Session info: chrome=98.0.4758.80)\n"
     ]
    }
   ],
   "source": [
    "i = 1\n",
    "while i < len(roster_lines):\n",
    "    row = roster_lines[i].text.split(\" \")\n",
    "    #new_list = []\n",
    "    #if row[]"
   ]
  },
  {
   "cell_type": "code",
   "execution_count": 11,
   "id": "4d33e407",
   "metadata": {},
   "outputs": [
    {
     "name": "stdout",
     "output_type": "stream",
     "text": [
      "Name Age B T Ht Wt DoB Yrs G GS Batting Defense P C 1B 2B 3B SS LF CF RF OF DH PH PR WAR Salary\n",
      "-----\n",
      "José Abreu 33 cu CU R R 6' 3\" 235 Jan 29, 1987 7 60 60 60 54 0 0 54 0 0 0 0 0 0 0 6 0 0 3.0 $12,666,667\n",
      "-----\n",
      "Drew Anderson 26 us US R R 6' 3\" 205 Mar 22, 1994 4 1 0 0 1 1 0 0 0 0 0 0 0 0 0 0 0 0 -0.3\n",
      "-----\n",
      "Tim Anderson 27 us US R R 6' 1\" 185 Jun 23, 1993 5 49 49 49 49 0 0 0 0 0 49 0 0 0 0 0 0 0 2.3 $4,000,000\n",
      "-----\n",
      "Aaron Bummer 26 us US L L 6' 3\" 215 Sep 21, 1993 4 9 0 0 9 9 0 0 0 0 0 0 0 0 0 0 0 0 0.4 $1,000,000\n",
      "-----\n"
     ]
    }
   ],
   "source": [
    "for item in roster_lines[:5]:\n",
    "    print(item.text)\n",
    "    print(\"-----\")"
   ]
  },
  {
   "cell_type": "code",
   "execution_count": null,
   "id": "466b682f",
   "metadata": {},
   "outputs": [],
   "source": [
    "i = 1\n",
    "while i < len(roster_lines)-1:\n",
    "    string_row = roster_lines[i].text.split(\" \""
   ]
  },
  {
   "cell_type": "code",
   "execution_count": 18,
   "id": "f87a7709",
   "metadata": {},
   "outputs": [],
   "source": [
    "string_row = roster_lines[1].text.split(\" \")"
   ]
  },
  {
   "cell_type": "code",
   "execution_count": null,
   "id": "80d268d3",
   "metadata": {},
   "outputs": [],
   "source": [
    "string_row[]"
   ]
  },
  {
   "cell_type": "code",
   "execution_count": 21,
   "id": "15522fb4",
   "metadata": {},
   "outputs": [
    {
     "data": {
      "text/plain": [
       "'235'"
      ]
     },
     "execution_count": 21,
     "metadata": {},
     "output_type": "execute_result"
    }
   ],
   "source": [
    "string_row[9] #WEIGHT"
   ]
  },
  {
   "cell_type": "code",
   "execution_count": 22,
   "id": "67cc3dab",
   "metadata": {},
   "outputs": [
    {
     "data": {
      "text/plain": [
       "'6\\'3\"'"
      ]
     },
     "execution_count": 22,
     "metadata": {},
     "output_type": "execute_result"
    }
   ],
   "source": [
    "string_row[7]+string_row[8]"
   ]
  },
  {
   "cell_type": "code",
   "execution_count": null,
   "id": "8fce4fd7",
   "metadata": {},
   "outputs": [],
   "source": []
  },
  {
   "cell_type": "code",
   "execution_count": 19,
   "id": "a20f03c3",
   "metadata": {},
   "outputs": [
    {
     "name": "stdout",
     "output_type": "stream",
     "text": [
      "['José', 'Abreu', '33', 'cu', 'CU', 'R', 'R', \"6'\", '3\"', '235', 'Jan', '29,', '1987', '7', '60', '60', '60', '54', '0', '0', '54', '0', '0', '0', '0', '0', '0', '0', '6', '0', '0', '3.0', '$12,666,667']\n"
     ]
    }
   ],
   "source": [
    "print(string_row)"
   ]
  },
  {
   "cell_type": "code",
   "execution_count": null,
   "id": "cdc57e2a",
   "metadata": {},
   "outputs": [],
   "source": [
    "batting_height_list = []\n",
    "pitching_height_list = []\n",
    "batting_weight_list = []\n",
    "pitching_weight_list = []"
   ]
  },
  {
   "cell_type": "code",
   "execution_count": 27,
   "id": "9804654a",
   "metadata": {},
   "outputs": [],
   "source": [
    "i = 1\n",
    "while i < len(roster_lines)-1:\n",
    "    WebDriverWait(driver,2)\n",
    "    string_row = roster_lines[i].text.split(\" \")\n",
    "    weight = string_row[13]\n",
    "    #Account for players missing uniform numbers, shifting the data 1 value left\n",
    "    if weight.isdigit() == True:\n",
    "        height = str(string_row[11] + string_row[12]).replace(\"''\",\"\").replace(\"\"\"\"\"\",\"\").replace(\"\\\"\",\"\")\n",
    "    else:\n",
    "        weight = string_row[12]\n",
    "        height = str(string_row[10] + string_row[11]).replace(\"''\",\"\").replace(\"\"\"\"\"\",\"\").replace(\"\\\"\",\"\")\n",
    "    if \"Pitcher\" in string_row:\n",
    "        pitching_height_list.append(height)\n",
    "        pitching_weight_list.append(weight)\n",
    "        WebDriverWait(driver,2)\n",
    "        i+=1\n",
    "    elif \"Position\" in string_row:\n",
    "        batting_height_list.append(height)\n",
    "        batting_weight_list.append(weight)\n",
    "        WebDriverWait(driver,2)\n",
    "        i+=1\n",
    "    else:\n",
    "        i+=1\n",
    "        continue\n",
    "        \n",
    "        \n",
    "av_batting_height = mean(batting_height_list)\n",
    "av_pitching_height = mean(pitching_height_list)\n",
    "av_batting_weight = mean(batting_weight_list)\n",
    "av_pitching_weight = mean(pitching_weight_list)                 "
   ]
  },
  {
   "cell_type": "code",
   "execution_count": null,
   "id": "6ccdd893",
   "metadata": {},
   "outputs": [],
   "source": [
    "URL = \"https://www.baseball-reference.com/teams/CHW/2000-roster.shtml\""
   ]
  },
  {
   "cell_type": "code",
   "execution_count": null,
   "id": "0ea05f01",
   "metadata": {},
   "outputs": [],
   "source": [
    "driver.get(URL)"
   ]
  },
  {
   "cell_type": "code",
   "execution_count": null,
   "id": "d1dc5469",
   "metadata": {},
   "outputs": [],
   "source": [
    "for "
   ]
  },
  {
   "cell_type": "code",
   "execution_count": null,
   "id": "488c5a44",
   "metadata": {},
   "outputs": [],
   "source": []
  },
  {
   "cell_type": "code",
   "execution_count": null,
   "id": "01c85649",
   "metadata": {},
   "outputs": [],
   "source": []
  },
  {
   "cell_type": "code",
   "execution_count": 28,
   "id": "932429c6",
   "metadata": {},
   "outputs": [
    {
     "name": "stdout",
     "output_type": "stream",
     "text": [
      "['205', '220', '185', '215', '225', '245', '225', '230', '220', '190', '235', '230', '230', '240', '195', '205', '215', '215']\n"
     ]
    }
   ],
   "source": [
    "print(batting_weight_list)"
   ]
  },
  {
   "cell_type": "code",
   "execution_count": 29,
   "id": "219c5b9e",
   "metadata": {},
   "outputs": [
    {
     "name": "stdout",
     "output_type": "stream",
     "text": [
      "[\"5'11\", \"6'3\", \"6'1\", \"6'1\", \"6'2\", \"5'11\", \"6'2\", \"6'4\", \"6'2\", \"5'8\", \"6'3\", \"6'2\", \"6'5\", \"6'4\", \"5'10\", \"6'3\", \"6'0\", \"6'2\"]\n"
     ]
    }
   ],
   "source": [
    "print(batting_height_list)"
   ]
  },
  {
   "cell_type": "code",
   "execution_count": 34,
   "id": "529a3435",
   "metadata": {},
   "outputs": [],
   "source": [
    "new_batting_height_list = [height_to_inches[x] for x in batting_height_list]"
   ]
  },
  {
   "cell_type": "code",
   "execution_count": 35,
   "id": "5485c752",
   "metadata": {},
   "outputs": [
    {
     "name": "stdout",
     "output_type": "stream",
     "text": [
      "[71, 75, 73, 73, 74, 71, 74, 76, 74, 68, 75, 74, 77, 76, 70, 75, 72, 74]\n"
     ]
    }
   ],
   "source": [
    "print(new_batting_height_list)"
   ]
  },
  {
   "cell_type": "code",
   "execution_count": 17,
   "id": "c075aef1",
   "metadata": {},
   "outputs": [
    {
     "name": "stdout",
     "output_type": "stream",
     "text": [
      "20 44 Seby Zavala us US Position * 27 R R 5' 11\" 205 Aug 28, 1993 2012\n",
      "21 21 Zack Collins us US Position * 26 L R 6' 3\" 220 Feb 6, 1995 2014\n",
      "22 7 Tim Anderson us US Position * 28 R R 6' 1\" 185 Jun 23, 1993 2013\n",
      "23 5 Romy Gonzalez us US Position * 24 R R 6' 1\" 215 Sep 6, 1996 2016\n",
      "24 24 Yasmani Grandal cu CU Position * 32 S R 6' 2\" 225 Nov 8, 1988 2010\n",
      "25 73 Yermin Mercedes do DO Position * 28 R R 5' 11\" 245 Feb 14, 1993 2011\n",
      "26 10 Yoan Moncada cu CU Position * 26 S R 6' 2\" 225 May 27, 1995 2012\n",
      "27 77 Micker Adolfo do DO Position * 24 R R 6' 4\" 230 Sep 11, 1996 2014\n",
      "28 88 Luis Robert cu CU Position * 23 R R 6' 2\" 220 Aug 3, 1997 2013\n",
      "29 Leury Garcia do DO Position * 30 S R 5' 8\" 190 Mar 18, 1991 2008\n",
      "30 79 José Abreu cu CU Position * 34 R R 6' 3\" 235 Jan 29, 1987 2003\n",
      "31 30 Jake Burger us US Position * 25 R R 6' 2\" 230 Apr 10, 1996 2015\n",
      "32 32 Gavin Sheets us US Position * 25 L L 6' 5\" 230 Apr 23, 1996 2015\n",
      "33 74 Eloy Jimenez do DO Position * 24 R R 6' 4\" 240 Nov 27, 1996 2014\n",
      "34 20 Danny Mendick us US Position * 27 R R 5' 10\" 195 Sep 28, 1993 2013\n",
      "35 76 Blake Rutherford us US Position * 24 L R 6' 3\" 205 May 2, 1997 2016\n",
      "36 25 Andrew Vaughn us US Position * 23 R R 6' 0\" 215 Apr 3, 1998 2017\n",
      "37 15 Adam Engel us US Position * 29 R R 6' 2\" 215 Dec 9, 1991 2011\n"
     ]
    }
   ],
   "source": [
    "#WANT TO SKIP FIRST AND LAST ROWS\n",
    "i=1\n",
    "while i < len(roster_lines)-1:\n",
    "    if \"Position\" in roster_lines[i].text.split(\" \"):\n",
    "        print(roster_lines[i].text)\n",
    "        i+=1\n",
    "    else:\n",
    "        i+=1\n",
    "        continue"
   ]
  },
  {
   "cell_type": "code",
   "execution_count": null,
   "id": "d8daa13f",
   "metadata": {},
   "outputs": [],
   "source": []
  },
  {
   "cell_type": "code",
   "execution_count": 1,
   "id": "fd8b21d5",
   "metadata": {},
   "outputs": [
    {
     "ename": "NameError",
     "evalue": "name 'driver' is not defined",
     "output_type": "error",
     "traceback": [
      "\u001b[0;31m---------------------------------------------------------------------------\u001b[0m",
      "\u001b[0;31mNameError\u001b[0m                                 Traceback (most recent call last)",
      "\u001b[0;32m/var/folders/ny/g82ykkn10bd8fqbx1q14fk_m0000gn/T/ipykernel_53507/2924239048.py\u001b[0m in \u001b[0;36m<module>\u001b[0;34m\u001b[0m\n\u001b[0;32m----> 1\u001b[0;31m \u001b[0mdriver\u001b[0m\u001b[0;34m.\u001b[0m\u001b[0mquit\u001b[0m\u001b[0;34m(\u001b[0m\u001b[0;34m)\u001b[0m\u001b[0;34m\u001b[0m\u001b[0;34m\u001b[0m\u001b[0m\n\u001b[0m",
      "\u001b[0;31mNameError\u001b[0m: name 'driver' is not defined"
     ]
    }
   ],
   "source": [
    "driver.quit()"
   ]
  },
  {
   "cell_type": "code",
   "execution_count": null,
   "id": "60ec8222",
   "metadata": {},
   "outputs": [],
   "source": []
  },
  {
   "cell_type": "code",
   "execution_count": 4,
   "id": "796e5fbc",
   "metadata": {},
   "outputs": [],
   "source": [
    "URL = \"https://www.baseball-reference.com/teams/TBD/2008-batting.shtml\""
   ]
  },
  {
   "cell_type": "code",
   "execution_count": 5,
   "id": "ff76e625",
   "metadata": {},
   "outputs": [],
   "source": [
    "driver.get(URL)"
   ]
  },
  {
   "cell_type": "code",
   "execution_count": null,
   "id": "71f69616",
   "metadata": {},
   "outputs": [],
   "source": [
    "record = driver.find_elements_by_tag_name('p')"
   ]
  },
  {
   "cell_type": "code",
   "execution_count": null,
   "id": "0087cd02",
   "metadata": {},
   "outputs": [],
   "source": []
  },
  {
   "cell_type": "code",
   "execution_count": null,
   "id": "474a1756",
   "metadata": {},
   "outputs": [],
   "source": []
  },
  {
   "cell_type": "code",
   "execution_count": null,
   "id": "73d02c91",
   "metadata": {},
   "outputs": [],
   "source": []
  },
  {
   "cell_type": "code",
   "execution_count": null,
   "id": "5ff35406",
   "metadata": {},
   "outputs": [],
   "source": []
  }
 ],
 "metadata": {
  "kernelspec": {
   "display_name": "Python [conda env:metis] *",
   "language": "python",
   "name": "conda-env-metis-py"
  },
  "language_info": {
   "codemirror_mode": {
    "name": "ipython",
    "version": 3
   },
   "file_extension": ".py",
   "mimetype": "text/x-python",
   "name": "python",
   "nbconvert_exporter": "python",
   "pygments_lexer": "ipython3",
   "version": "3.9.9"
  }
 },
 "nbformat": 4,
 "nbformat_minor": 5
}
